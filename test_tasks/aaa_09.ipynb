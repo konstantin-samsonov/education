{
 "cells": [
  {
   "cell_type": "markdown",
   "source": [
    "![Task](src/aaa_009_1.png)"
   ],
   "metadata": {
    "collapsed": false
   },
   "id": "543324b063d010da"
  },
  {
   "cell_type": "markdown",
   "source": [
    "![Task](src/aaa_009_2.png)"
   ],
   "metadata": {
    "collapsed": false
   },
   "id": "5288ea251c8faf4"
  },
  {
   "cell_type": "markdown",
   "source": [
    "![Task](src/aaa_009_3.png)"
   ],
   "metadata": {
    "collapsed": false
   },
   "id": "4a4ddaa9569ecbb1"
  },
  {
   "cell_type": "code",
   "outputs": [],
   "source": [],
   "metadata": {
    "collapsed": false
   },
   "id": "b852c13354460289"
  }
 ],
 "metadata": {
  "kernelspec": {
   "display_name": "Python 3",
   "language": "python",
   "name": "python3"
  },
  "language_info": {
   "codemirror_mode": {
    "name": "ipython",
    "version": 2
   },
   "file_extension": ".py",
   "mimetype": "text/x-python",
   "name": "python",
   "nbconvert_exporter": "python",
   "pygments_lexer": "ipython2",
   "version": "2.7.6"
  }
 },
 "nbformat": 4,
 "nbformat_minor": 5
}
