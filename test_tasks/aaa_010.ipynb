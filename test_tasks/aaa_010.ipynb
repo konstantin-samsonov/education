{
 "cells": [
  {
   "cell_type": "markdown",
   "source": [
    "![Task](src/aaa_010.png)"
   ],
   "metadata": {
    "collapsed": false
   },
   "id": "bf4853fae9d25024"
  },
  {
   "cell_type": "code",
   "outputs": [],
   "source": [
    "import numpy as np\n",
    "from scipy.integrate import quad"
   ],
   "metadata": {
    "collapsed": false,
    "ExecuteTime": {
     "end_time": "2024-06-29T11:14:08.746149Z",
     "start_time": "2024-06-29T11:14:08.309061Z"
    }
   },
   "id": "f4359175e2debbe6",
   "execution_count": 1
  },
  {
   "cell_type": "code",
   "outputs": [],
   "source": [
    "def f(x):\n",
    "    \"\"\"Вычисляем значение f(x)\"\"\"\n",
    "    return np.cos(x) / (np.exp(x) + 2)\n",
    "\n",
    "\n",
    "def an(n):\n",
    "    \"\"\"Вычисляем коэффициент an\"\"\"\n",
    "    if n == 0:\n",
    "        # Вычисляем a0/2 как интеграл f(x) от -π до π\n",
    "        integral, _ = quad(lambda x: f(x), -np.pi, np.pi)\n",
    "        return integral / np.pi\n",
    "    else:\n",
    "        # Вычисляем an для n > 0 как интеграл f(x)cos(nx) от -π до π\n",
    "        integral, _ = quad(lambda x: f(x) * np.cos(n * x), -np.pi, np.pi)\n",
    "        return integral / np.pi\n",
    "\n",
    "\n",
    "def bn(n):\n",
    "    \"\"\"Вычисляем коэффициент bn как интеграл f(x)sin(nx) от -π до π\"\"\"\n",
    "    integral, _ = quad(lambda x: f(x) * np.sin(n * x), -np.pi, np.pi)\n",
    "    return integral / np.pi\n",
    "\n",
    "\n",
    "def fourier_series_coefficients(f, n):\n",
    "    \"\"\"Вычисляем коэффициентов ряда Фурье an и bn\"\"\"\n",
    "    # Вычисляем все an от 0 до n\n",
    "    a_coeff = [an(i) for i in range(n + 1)]\n",
    "    # Вычисляем все bn от 1 до n\n",
    "    b_coeff = [bn(i) for i in range(1, n + 1)]\n",
    "    return a_coeff, b_coeff\n",
    "\n",
    "\n",
    "def solution():\n",
    "    n = int(input())\n",
    "    a_coeff, b_coeff = fourier_series_coefficients(f, n)\n",
    "    print(' '.join(f'{v:.3f}' for v in a_coeff))\n",
    "    print(' '.join(f'{v:.3f}' for v in b_coeff))"
   ],
   "metadata": {
    "collapsed": false,
    "ExecuteTime": {
     "end_time": "2024-06-29T11:14:20.282915Z",
     "start_time": "2024-06-29T11:14:20.277321Z"
    }
   },
   "id": "bbb3824ad6a0f139",
   "execution_count": 2
  },
  {
   "cell_type": "code",
   "outputs": [],
   "source": [
    "solution()"
   ],
   "metadata": {
    "collapsed": false
   },
   "id": "fc1a8251b658097e"
  }
 ],
 "metadata": {
  "kernelspec": {
   "display_name": "Python 3",
   "language": "python",
   "name": "python3"
  },
  "language_info": {
   "codemirror_mode": {
    "name": "ipython",
    "version": 2
   },
   "file_extension": ".py",
   "mimetype": "text/x-python",
   "name": "python",
   "nbconvert_exporter": "python",
   "pygments_lexer": "ipython2",
   "version": "2.7.6"
  }
 },
 "nbformat": 4,
 "nbformat_minor": 5
}
