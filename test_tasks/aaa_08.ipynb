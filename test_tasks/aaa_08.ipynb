{
 "cells": [
  {
   "cell_type": "markdown",
   "source": [
    "![Task](src/aaa_008_1.png)"
   ],
   "metadata": {
    "collapsed": false
   },
   "id": "b8e477aba7a52957"
  },
  {
   "cell_type": "markdown",
   "source": [
    "![Task](src/aaa_008_2.png)"
   ],
   "metadata": {
    "collapsed": false
   },
   "id": "b27e1fd50857c161"
  },
  {
   "cell_type": "code",
   "outputs": [],
   "source": [
    "import sys"
   ],
   "metadata": {
    "collapsed": false,
    "ExecuteTime": {
     "end_time": "2024-06-29T11:12:19.061820Z",
     "start_time": "2024-06-29T11:12:19.059089Z"
    }
   },
   "id": "cc316b91acadb9de",
   "execution_count": 1
  },
  {
   "cell_type": "code",
   "outputs": [],
   "source": [
    "def calculate_similarity(w, u):\n",
    "    # Вычисляем пересечение\n",
    "    w_set = list(w)\n",
    "    u_set = list(u)\n",
    "    intersection = []\n",
    "    union = w_set + u_set\n",
    "\n",
    "    for char in w_set:\n",
    "        if char in u_set:\n",
    "            intersection.append(char)\n",
    "            u_set.remove(char)\n",
    "\n",
    "    # Вычисляем схожесть\n",
    "    similarity = (2 * len(intersection)) / len(union)\n",
    "    return similarity\n",
    "\n",
    "def find_similar_words(w, t, words):\n",
    "    indices = []\n",
    "    for i, u in enumerate(words):\n",
    "        similarity = calculate_similarity(w, u)\n",
    "        if similarity >= t:\n",
    "            indices.append(i)\n",
    "\n",
    "    if not indices:\n",
    "        return [-1]\n",
    "    return indices\n",
    "\n",
    "def solution():\n",
    "    input = sys.stdin.read\n",
    "    data = input().strip().split(\"\\n\")\n",
    "    w = data[0]\n",
    "    n, t = map(float, data[1].split())\n",
    "    words = data[2].split()\n",
    "    result = find_similar_words(w, t, words)\n",
    "    print(\" \".join(map(str, result)))"
   ],
   "metadata": {
    "collapsed": false,
    "ExecuteTime": {
     "end_time": "2024-06-29T11:12:22.822821Z",
     "start_time": "2024-06-29T11:12:22.817853Z"
    }
   },
   "id": "132ab120f02cbf78",
   "execution_count": 2
  },
  {
   "cell_type": "code",
   "outputs": [],
   "source": [
    "solution()"
   ],
   "metadata": {
    "collapsed": false
   },
   "id": "1683f5e4ce31cc72"
  }
 ],
 "metadata": {
  "kernelspec": {
   "display_name": "Python 3",
   "language": "python",
   "name": "python3"
  },
  "language_info": {
   "codemirror_mode": {
    "name": "ipython",
    "version": 2
   },
   "file_extension": ".py",
   "mimetype": "text/x-python",
   "name": "python",
   "nbconvert_exporter": "python",
   "pygments_lexer": "ipython2",
   "version": "2.7.6"
  }
 },
 "nbformat": 4,
 "nbformat_minor": 5
}
