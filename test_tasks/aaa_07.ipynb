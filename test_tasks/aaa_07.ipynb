{
 "cells": [
  {
   "cell_type": "markdown",
   "source": [
    "![My Image](src/aaa_007.png)"
   ],
   "metadata": {
    "collapsed": false
   },
   "id": "479971b21a26f10d"
  },
  {
   "cell_type": "code",
   "outputs": [],
   "source": [
    "def expected_value(a, b, c, d, N):\n",
    "    def function_to_integrate(x, a, b, c, d):\n",
    "        \"\"\"Вычисляем значение функции g(x)\"\"\"\n",
    "        return a * x ** 3 + b * x ** 2 + c * x + d\n",
    "\n",
    "    def density_function(x):\n",
    "        \"\"\"Вычисляем плотность распределения f(x)\"\"\"\n",
    "        return 6 * x * (1 - x ** 2) ** 2 if 0 <= x <= 1 else 0\n",
    "\n",
    "    h = 1 / N\n",
    "    expectation = 0\n",
    "\n",
    "    # Реализуем метод средних прямоугольников\n",
    "    for i in range(N):\n",
    "        # Вычисляем среднюю точку на каждом подынтервале\n",
    "        x = (i + 0.5) * h\n",
    "        expectation += function_to_integrate(x, a, b, c, d) * density_function(x)\n",
    "\n",
    "    # Считаем окончательное значение интеграла\n",
    "    expectation *= h\n",
    "    return expectation\n",
    "\n",
    "\n",
    "def solution():\n",
    "    a, b, c, d = map(float, input().split())\n",
    "    N = int(input())\n",
    "    result = expected_value(a, b, c, d, N)\n",
    "    print(f\"{result:.3f}\")"
   ],
   "metadata": {
    "collapsed": false,
    "ExecuteTime": {
     "end_time": "2024-06-29T11:10:40.089159Z",
     "start_time": "2024-06-29T11:10:40.085085Z"
    }
   },
   "id": "81d046bce287ae05",
   "execution_count": 1
  },
  {
   "cell_type": "code",
   "outputs": [],
   "source": [
    "solution()"
   ],
   "metadata": {
    "collapsed": false
   },
   "id": "2e25b596d9b752a2"
  }
 ],
 "metadata": {
  "kernelspec": {
   "display_name": "Python 3",
   "language": "python",
   "name": "python3"
  },
  "language_info": {
   "codemirror_mode": {
    "name": "ipython",
    "version": 2
   },
   "file_extension": ".py",
   "mimetype": "text/x-python",
   "name": "python",
   "nbconvert_exporter": "python",
   "pygments_lexer": "ipython2",
   "version": "2.7.6"
  }
 },
 "nbformat": 4,
 "nbformat_minor": 5
}
