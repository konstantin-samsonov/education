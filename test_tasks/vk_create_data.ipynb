{
 "cells": [
  {
   "cell_type": "code",
   "outputs": [],
   "source": [
    "import sqlite3\n",
    "from datetime import datetime, timedelta\n",
    "import random"
   ],
   "metadata": {
    "collapsed": false,
    "ExecuteTime": {
     "end_time": "2024-06-17T08:20:29.494472Z",
     "start_time": "2024-06-17T08:20:29.492026Z"
    }
   },
   "id": "caf37b1be6620f04",
   "execution_count": 7
  },
  {
   "cell_type": "code",
   "outputs": [],
   "source": [
    "# Соединение с базой данных\n",
    "conn = sqlite3.connect('test_tasks.sqlite')\n",
    "cursor = conn.cursor()"
   ],
   "metadata": {
    "collapsed": false,
    "ExecuteTime": {
     "end_time": "2024-06-17T08:20:29.725368Z",
     "start_time": "2024-06-17T08:20:29.723601Z"
    }
   },
   "id": "ecca0a004df01a4e",
   "execution_count": 8
  },
  {
   "cell_type": "code",
   "outputs": [],
   "source": [
    "# Удаление таблиц, если они уже существуют\n",
    "cursor.execute('DROP TABLE IF EXISTS vk_employees')\n",
    "cursor.execute('DROP TABLE IF EXISTS vk_departments')\n",
    "\n",
    "# Создание таблиц\n",
    "cursor.execute('''\n",
    "CREATE TABLE IF NOT EXISTS vk_departments (\n",
    "    id INTEGER PRIMARY KEY,\n",
    "    name TEXT NOT NULL\n",
    ")\n",
    "''')\n",
    "\n",
    "cursor.execute('''\n",
    "CREATE TABLE IF NOT EXISTS vk_employees (\n",
    "    id INTEGER PRIMARY KEY,\n",
    "    name TEXT NOT NULL,\n",
    "    dep_id INTEGER,\n",
    "    manager_id INTEGER,\n",
    "    salary INTEGER,\n",
    "    FOREIGN KEY (dep_id) REFERENCES vk_departments(id),\n",
    "    FOREIGN KEY (manager_id) REFERENCES vk_employees(id)\n",
    ")\n",
    "''')\n",
    "\n",
    "# Вставка данных в таблицу vk_departments\n",
    "departments = [('Finance',), ('Operations',), ('Deployment',)]\n",
    "cursor.executemany('INSERT INTO vk_departments (name) VALUES (?)', departments)\n",
    "\n",
    "# Вставка данных в таблицу vk_employees\n",
    "employee_names = [f'Employee_{i}' for i in range(1, 31)]\n",
    "department_ids = [1, 2, 3]\n",
    "salaries = [random.randint(500, 5000) for _ in range(30)]\n",
    "\n",
    "# Назначение менеджеров для департаментов\n",
    "managers = []\n",
    "for dep_id in department_ids:\n",
    "    name = employee_names.pop(0)\n",
    "    salary = salaries.pop(0)\n",
    "    managers.append((name, dep_id, None, salary))\n",
    "\n",
    "cursor.executemany('INSERT INTO vk_employees (name, dep_id, manager_id, salary) VALUES (?, ?, ?, ?)', managers)\n",
    "\n",
    "# Получение ID менеджеров\n",
    "cursor.execute('SELECT id, dep_id FROM vk_employees WHERE manager_id IS NULL')\n",
    "manager_ids = {row[1]: row[0] for row in cursor.fetchall()}  # {dep_id: manager_id}\n",
    "\n",
    "# Вставка остальных сотрудников\n",
    "employees = []\n",
    "for i in range(27):  # У нас осталось 27 сотрудников\n",
    "    name = employee_names.pop(0)\n",
    "    dep_id = random.choice(department_ids)\n",
    "    manager_id = manager_ids[dep_id]\n",
    "    salary = salaries.pop(0)\n",
    "    employees.append((name, dep_id, manager_id, salary))\n",
    "\n",
    "cursor.executemany('INSERT INTO vk_employees (name, dep_id, manager_id, salary) VALUES (?, ?, ?, ?)', employees)\n",
    "\n",
    "# Сохранение изменений\n",
    "conn.commit()"
   ],
   "metadata": {
    "collapsed": false,
    "ExecuteTime": {
     "end_time": "2024-06-17T06:34:02.249957Z",
     "start_time": "2024-06-17T06:34:02.240313Z"
    }
   },
   "id": "f33e18cb837934c6",
   "execution_count": 3
  },
  {
   "cell_type": "code",
   "outputs": [],
   "source": [
    "# Удаление таблицы, если она уже существует\n",
    "cursor.execute('DROP TABLE IF EXISTS vk_purchases')\n",
    "\n",
    "# Создание таблицы\n",
    "cursor.execute('''\n",
    "CREATE TABLE IF NOT EXISTS vk_purchases (\n",
    "    user_id INTEGER,\n",
    "    user_gender TEXT,\n",
    "    items INTEGER,\n",
    "    price INTEGER\n",
    ")\n",
    "''')\n",
    "\n",
    "# Генерация данных\n",
    "user_ids = [101, 102, 103, 104, 105]\n",
    "genders = ['f', 'female', 'm', 'male']\n",
    "purchases = []\n",
    "\n",
    "for _ in range(50):\n",
    "    user_id = random.choice(user_ids)\n",
    "    user_gender = random.choice(genders)\n",
    "    items = random.randint(0, 5)\n",
    "    price = items * 100 if items > 0 else 0\n",
    "    purchases.append((user_id, user_gender, items, price))\n",
    "\n",
    "# Вставка данных в таблицу\n",
    "cursor.executemany('INSERT INTO vk_purchases (user_id, user_gender, items, price) VALUES (?, ?, ?, ?)', purchases)\n",
    "\n",
    "# Сохранение изменений\n",
    "conn.commit()"
   ],
   "metadata": {
    "collapsed": false,
    "ExecuteTime": {
     "end_time": "2024-06-17T08:03:32.074950Z",
     "start_time": "2024-06-17T08:03:32.068347Z"
    }
   },
   "id": "9febac182086647f",
   "execution_count": 4
  },
  {
   "cell_type": "code",
   "outputs": [],
   "source": [
    "# Удаление таблицы, если она уже существует\n",
    "cursor.execute('DROP TABLE IF EXISTS vk_transactions')\n",
    "\n",
    "# Создание таблицы\n",
    "cursor.execute('''\n",
    "CREATE TABLE IF NOT EXISTS vk_transactions (\n",
    "    transaction_ts DATETIME,\n",
    "    user_id INTEGER,\n",
    "    transaction_id INTEGER,\n",
    "    item TEXT\n",
    ")\n",
    "''')\n",
    "\n",
    "# Генерация данных\n",
    "user_ids = [13811335, 3378024101]\n",
    "items = ['glove', 'hat', 'vase', 'cup', 'mirror', 'dress', 'tie']\n",
    "base_time = datetime(2016, 6, 17, 12, 0, 0)\n",
    "transactions = []\n",
    "\n",
    "for _ in range(50):\n",
    "    transaction_ts = base_time + timedelta(hours=random.randint(0, 72), minutes=random.randint(0, 59), seconds=random.randint(0, 59))\n",
    "    user_id = random.choice(user_ids)\n",
    "    transaction_id = random.randint(1000000000, 9999999999)\n",
    "    item = random.choice(items)\n",
    "    transactions.append((transaction_ts, user_id, transaction_id, item))\n",
    "\n",
    "# Вставка данных в таблицу\n",
    "cursor.executemany('INSERT INTO vk_transactions (transaction_ts, user_id, transaction_id, item) VALUES (?, ?, ?, ?)', transactions)\n",
    "\n",
    "# Сохранение изменений\n",
    "conn.commit()"
   ],
   "metadata": {
    "collapsed": false,
    "ExecuteTime": {
     "end_time": "2024-06-17T08:20:33.878062Z",
     "start_time": "2024-06-17T08:20:33.871883Z"
    }
   },
   "id": "ff1621b7d64a388c",
   "execution_count": 9
  },
  {
   "cell_type": "code",
   "outputs": [],
   "source": [],
   "metadata": {
    "collapsed": false
   },
   "id": "13a8b030309c622e"
  }
 ],
 "metadata": {
  "kernelspec": {
   "display_name": "Python 3",
   "language": "python",
   "name": "python3"
  },
  "language_info": {
   "codemirror_mode": {
    "name": "ipython",
    "version": 2
   },
   "file_extension": ".py",
   "mimetype": "text/x-python",
   "name": "python",
   "nbconvert_exporter": "python",
   "pygments_lexer": "ipython2",
   "version": "2.7.6"
  }
 },
 "nbformat": 4,
 "nbformat_minor": 5
}
