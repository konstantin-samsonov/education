{
 "cells": [
  {
   "cell_type": "code",
   "execution_count": 1,
   "id": "initial_id",
   "metadata": {
    "collapsed": true,
    "ExecuteTime": {
     "end_time": "2024-06-12T12:31:44.203671Z",
     "start_time": "2024-06-12T12:31:41.246987Z"
    }
   },
   "outputs": [],
   "source": [
    "import sqlite3\n",
    "import pandas as pd\n",
    "from retentioneering.eventstream import Eventstream\n",
    "connect = sqlite3.connect('lessons.sqlite')"
   ]
  },
  {
   "cell_type": "markdown",
   "source": [
    "# Задание\n",
    "Мы хотим снизить стоимость одного из наших продуктов с 400 у.е. до 160 у.е. Необходимо:\n",
    "[ ] Задизайнить эксперимент. В качестве ключевой метрики – взять конверсию в платящего;\n",
    "[ ] Датасет можно исследовать на всех данных, а дизайнить АБ на контрольной группе;\n",
    "[ ] Проанализировать результаты;\n",
    "[ ] Подготовить мини-презентацию результатов;"
   ],
   "metadata": {
    "collapsed": false
   },
   "id": "ef1d06ce3658163b"
  },
  {
   "cell_type": "markdown",
   "source": [
    "# Данные\n",
    "__actions__ – данные о совершаемых пользователем событиях:\n",
    "- uid – идентификатор пользователя; \n",
    "- ts – время совершения события; \n",
    "- action – название события, где `firstOpen` – первое открытие приложения после установки, `function%` – использование какой-либо функции приложения; \n",
    "\n",
    "__experiments__ – данные о принодлежности пользователя к группам эксперимента. Один пользователь может быть в нескольких экспериментах одновременно:\n",
    "- experimetn – название эксперимента;\n",
    "- group – группа в эксперименте (old = control, new = test);\n",
    "- uid – идентификатор пользователя; \n",
    "\n",
    "__payments__ – данные о покупках пользователей. В сервисе есть два типа покупок (товаров), которые могут быть осуществлены одновременно:\n",
    "- uid – идентификатор пользователя;\n",
    "- payment_type – тип покупки;\n",
    "- payment – платеж, который пришел в сервис;  \n"
   ],
   "metadata": {
    "collapsed": false
   },
   "id": "cd5e7250247517f"
  },
  {
   "cell_type": "markdown",
   "source": [
    "# Решение"
   ],
   "metadata": {
    "collapsed": false
   },
   "id": "b6a9d925f9232240"
  },
  {
   "cell_type": "markdown",
   "source": [
    "## Анализ предоставленных данных "
   ],
   "metadata": {
    "collapsed": false
   },
   "id": "ade0b175874f2c1b"
  },
  {
   "cell_type": "code",
   "outputs": [],
   "source": [
    "# Выберем только тех пользователей, которые принимали участие в анализируемом нами АБ (paymentChange)\n",
    "sql = \"\"\"\n",
    "with\n",
    "    users_labels as (\n",
    "        select\n",
    "            experiment,\n",
    "            uid,\n",
    "            count(distinct(group_label)) as uniq_group_cnt,\n",
    "            json_group_array(distinct(group_label)) as uniq_group_label\n",
    "        from ab_experiments\n",
    "        where experiment == 'paymentChange'\n",
    "        group by  experiment, uid\n",
    "    ),\n",
    "\n",
    "    users_payments as (\n",
    "        select\n",
    "            uid,\n",
    "            json_group_array(payment_type) as arr_payment_type,\n",
    "            json_group_array(payment) as arr_payment,\n",
    "            count(distinct payment) as uniq_payment_cnt\n",
    "        from ab_payments\n",
    "        group by uid\n",
    "    ),\n",
    "\n",
    "    data as (\n",
    "        select\n",
    "            a.uid, a.ts, date(a.ts) as date, a.action,\n",
    "            l.experiment, l.uniq_group_cnt, json_extract(l.uniq_group_label, '$[0]') as uniq_group_label,\n",
    "            p.arr_payment_type, p.arr_payment,\n",
    "            case when p.uniq_payment_cnt is null then 0 else p.uniq_payment_cnt end as uniq_payment_cnt,\n",
    "            case when p.uniq_payment_cnt is null then 0 else 1 end as is_payment_uid\n",
    "        from ab_actions as a\n",
    "        left join users_labels as l on a.uid == l.uid\n",
    "        left join users_payments as p on a.uid == p.uid\n",
    "        order by a.uid, a.ts asc\n",
    "    )\n",
    "\n",
    "select * from data;\n",
    "\"\"\"\n",
    "df = pd.read_sql_query(sql, connect)\n",
    "df['ts'] = pd.to_datetime(df['ts'])\n",
    "df['date'] = pd.to_datetime(df['date'])"
   ],
   "metadata": {
    "collapsed": false,
    "ExecuteTime": {
     "end_time": "2024-06-12T13:16:33.911007Z",
     "start_time": "2024-06-12T13:16:33.047753Z"
    }
   },
   "id": "edba525572c65d21",
   "execution_count": 46
  },
  {
   "cell_type": "code",
   "outputs": [
    {
     "data": {
      "text/plain": "          uid                  ts       date     action     experiment  \\\n5772    atgvr 2020-01-19 11:01:58 2020-01-19  function3  paymentChange   \n122026  qmttm 2020-01-11 21:49:28 2020-01-11  function1  paymentChange   \n31128   edslj 2020-01-09 19:25:00 2020-01-09  firstOpen  paymentChange   \n3465    alqbf 2020-01-18 14:57:41 2020-01-18  function2  paymentChange   \n25938   dlkrf 2020-01-18 21:17:43 2020-01-18  function4  paymentChange   \n\n        uniq_group_cnt uniq_group_label arr_payment_type arr_payment  \\\n5772                 1             test             None        None   \n122026               1             test        [\"type1\"]       [160]   \n31128                1          control             None        None   \n3465                 1          control             None        None   \n25938                1          control        [\"type2\"]       [200]   \n\n        uniq_payment_cnt  is_payment_uid  \n5772                   0               0  \n122026                 1               1  \n31128                  0               0  \n3465                   0               0  \n25938                  1               1  ",
      "text/html": "<div>\n<style scoped>\n    .dataframe tbody tr th:only-of-type {\n        vertical-align: middle;\n    }\n\n    .dataframe tbody tr th {\n        vertical-align: top;\n    }\n\n    .dataframe thead th {\n        text-align: right;\n    }\n</style>\n<table border=\"1\" class=\"dataframe\">\n  <thead>\n    <tr style=\"text-align: right;\">\n      <th></th>\n      <th>uid</th>\n      <th>ts</th>\n      <th>date</th>\n      <th>action</th>\n      <th>experiment</th>\n      <th>uniq_group_cnt</th>\n      <th>uniq_group_label</th>\n      <th>arr_payment_type</th>\n      <th>arr_payment</th>\n      <th>uniq_payment_cnt</th>\n      <th>is_payment_uid</th>\n    </tr>\n  </thead>\n  <tbody>\n    <tr>\n      <th>5772</th>\n      <td>atgvr</td>\n      <td>2020-01-19 11:01:58</td>\n      <td>2020-01-19</td>\n      <td>function3</td>\n      <td>paymentChange</td>\n      <td>1</td>\n      <td>test</td>\n      <td>None</td>\n      <td>None</td>\n      <td>0</td>\n      <td>0</td>\n    </tr>\n    <tr>\n      <th>122026</th>\n      <td>qmttm</td>\n      <td>2020-01-11 21:49:28</td>\n      <td>2020-01-11</td>\n      <td>function1</td>\n      <td>paymentChange</td>\n      <td>1</td>\n      <td>test</td>\n      <td>[\"type1\"]</td>\n      <td>[160]</td>\n      <td>1</td>\n      <td>1</td>\n    </tr>\n    <tr>\n      <th>31128</th>\n      <td>edslj</td>\n      <td>2020-01-09 19:25:00</td>\n      <td>2020-01-09</td>\n      <td>firstOpen</td>\n      <td>paymentChange</td>\n      <td>1</td>\n      <td>control</td>\n      <td>None</td>\n      <td>None</td>\n      <td>0</td>\n      <td>0</td>\n    </tr>\n    <tr>\n      <th>3465</th>\n      <td>alqbf</td>\n      <td>2020-01-18 14:57:41</td>\n      <td>2020-01-18</td>\n      <td>function2</td>\n      <td>paymentChange</td>\n      <td>1</td>\n      <td>control</td>\n      <td>None</td>\n      <td>None</td>\n      <td>0</td>\n      <td>0</td>\n    </tr>\n    <tr>\n      <th>25938</th>\n      <td>dlkrf</td>\n      <td>2020-01-18 21:17:43</td>\n      <td>2020-01-18</td>\n      <td>function4</td>\n      <td>paymentChange</td>\n      <td>1</td>\n      <td>control</td>\n      <td>[\"type2\"]</td>\n      <td>[200]</td>\n      <td>1</td>\n      <td>1</td>\n    </tr>\n  </tbody>\n</table>\n</div>"
     },
     "execution_count": 47,
     "metadata": {},
     "output_type": "execute_result"
    }
   ],
   "source": [
    "df.sample(5)"
   ],
   "metadata": {
    "collapsed": false,
    "ExecuteTime": {
     "end_time": "2024-06-12T13:16:35.338383Z",
     "start_time": "2024-06-12T13:16:35.321727Z"
    }
   },
   "id": "6c4c3de65dcb0788",
   "execution_count": 47
  },
  {
   "cell_type": "code",
   "outputs": [
    {
     "data": {
      "text/plain": "1    185189\nName: uniq_group_cnt, dtype: int64"
     },
     "execution_count": 48,
     "metadata": {},
     "output_type": "execute_result"
    }
   ],
   "source": [
    "# Проверим, что среди пользователей нет миграции между группами эксперимента\n",
    "df['uniq_group_cnt'].value_counts()"
   ],
   "metadata": {
    "collapsed": false,
    "ExecuteTime": {
     "end_time": "2024-06-12T13:16:44.706413Z",
     "start_time": "2024-06-12T13:16:44.701768Z"
    }
   },
   "id": "6526a58dc7e9a367",
   "execution_count": 48
  },
  {
   "cell_type": "code",
   "outputs": [
    {
     "name": "stdout",
     "output_type": "stream",
     "text": [
      "control    0.50024\n",
      "test       0.49976\n",
      "Name: uniq_group_label, dtype: float64\n"
     ]
    },
    {
     "data": {
      "text/plain": "<Figure size 1080x360 with 1 Axes>",
      "image/png": "[encoded data removed]"
     },
     "metadata": {
      "needs_background": "light"
     },
     "output_type": "display_data"
    }
   ],
   "source": [
    "# Проверим, что пользователи набирались в контрольную/тестовую группу одновременно и в одинаковых размерах\n",
    "tmp = df.pivot_table(index='date', columns='uniq_group_label', aggfunc={'uid':'count'})\n",
    "print(df['uniq_group_label'].value_counts(normalize=True))\n",
    "tmp.plot(kind='bar', figsize=(15, 5), legend=False);"
   ],
   "metadata": {
    "collapsed": false,
    "ExecuteTime": {
     "end_time": "2024-06-12T13:16:45.055136Z",
     "start_time": "2024-06-12T13:16:44.924964Z"
    }
   },
   "id": "f71d0beb18befc9d",
   "execution_count": 49
  },
  {
   "cell_type": "code",
   "outputs": [],
   "source": [],
   "metadata": {
    "collapsed": false
   },
   "id": "809b182defa3aed0"
  },
  {
   "cell_type": "code",
   "outputs": [
    {
     "data": {
      "text/plain": "                 percent_uid_by_group_payment                     \nuniq_group_label                      control          test       \nis_payment_uid                              0      1      0      1\nlatest_action                                                     \nfunction1                               19.43  23.84  19.08  22.36\nfunction2                               23.80  19.46  23.72  20.40\nfunction3                               28.28  27.93  28.75  28.40\nfunction4                               28.49  28.77  28.45  28.85",
      "text/html": "<div>\n<style scoped>\n    .dataframe tbody tr th:only-of-type {\n        vertical-align: middle;\n    }\n\n    .dataframe tbody tr th {\n        vertical-align: top;\n    }\n\n    .dataframe thead tr th {\n        text-align: left;\n    }\n\n    .dataframe thead tr:last-of-type th {\n        text-align: right;\n    }\n</style>\n<table border=\"1\" class=\"dataframe\">\n  <thead>\n    <tr>\n      <th></th>\n      <th colspan=\"4\" halign=\"left\">percent_uid_by_group_payment</th>\n    </tr>\n    <tr>\n      <th>uniq_group_label</th>\n      <th colspan=\"2\" halign=\"left\">control</th>\n      <th colspan=\"2\" halign=\"left\">test</th>\n    </tr>\n    <tr>\n      <th>is_payment_uid</th>\n      <th>0</th>\n      <th>1</th>\n      <th>0</th>\n      <th>1</th>\n    </tr>\n    <tr>\n      <th>latest_action</th>\n      <th></th>\n      <th></th>\n      <th></th>\n      <th></th>\n    </tr>\n  </thead>\n  <tbody>\n    <tr>\n      <th>function1</th>\n      <td>19.43</td>\n      <td>23.84</td>\n      <td>19.08</td>\n      <td>22.36</td>\n    </tr>\n    <tr>\n      <th>function2</th>\n      <td>23.80</td>\n      <td>19.46</td>\n      <td>23.72</td>\n      <td>20.40</td>\n    </tr>\n    <tr>\n      <th>function3</th>\n      <td>28.28</td>\n      <td>27.93</td>\n      <td>28.75</td>\n      <td>28.40</td>\n    </tr>\n    <tr>\n      <th>function4</th>\n      <td>28.49</td>\n      <td>28.77</td>\n      <td>28.45</td>\n      <td>28.85</td>\n    </tr>\n  </tbody>\n</table>\n</div>"
     },
     "execution_count": 58,
     "metadata": {},
     "output_type": "execute_result"
    }
   ],
   "source": [
    "# Попытки выяснить какой ивент (или последовательность ивентов) приближает пользователей оплате продукта, привели в Retentioneering.\n",
    "# И кажется, что это уже перебор. Да и данных для построения нормального графа ивенты -> покупка не хватает (было бы время совершения покупки, вот тогда бы все получилось).\n",
    "# Единственное, что удалось выяснить с помощью графов – пользователи весьма активно юзают все фичи (feature1,2,3,4) и эта активность не зависит от группы АБ и/или\n",
    "# наличия/отсутствия статусу покупателя.\n",
    "\n",
    "# Чтобы показать это на цифрах, посчитаем долю последнего action в пользовательских ивентах и посмотрим в разрезе платящий/не платящий и control/test\n",
    "# Для вычислений модицицирую написанный выше sql-запрос, так как разбираться в оконках Pandas пока не хочется. \n",
    "sql = \"\"\"\n",
    "with\n",
    "    users_labels as (\n",
    "        select\n",
    "            experiment,\n",
    "            uid,\n",
    "            count(distinct(group_label)) as uniq_group_cnt,\n",
    "            json_group_array(distinct(group_label)) as uniq_group_label\n",
    "        from ab_experiments\n",
    "        where experiment == 'paymentChange'\n",
    "        group by  experiment, uid\n",
    "    ),\n",
    "\n",
    "    users_payments as (\n",
    "        select\n",
    "            uid,\n",
    "            json_group_array(payment_type) as arr_payment_type,\n",
    "            json_group_array(payment) as arr_payment,\n",
    "            count(distinct payment) as uniq_payment_cnt\n",
    "        from ab_payments\n",
    "        group by uid\n",
    "    ),\n",
    "\n",
    "    data as (\n",
    "        select\n",
    "            a.uid, a.ts, date(a.ts) as date, a.action,\n",
    "            l.experiment, l.uniq_group_cnt, json_extract(l.uniq_group_label, '$[0]') as uniq_group_label,\n",
    "            p.arr_payment_type, p.arr_payment,\n",
    "            case when p.uniq_payment_cnt is null then 0 else p.uniq_payment_cnt end as uniq_payment_cnt,\n",
    "            case when p.uniq_payment_cnt is null then 0 else 1 end as is_payment_uid\n",
    "        from ab_actions as a\n",
    "        left join users_labels as l on a.uid == l.uid\n",
    "        left join users_payments as p on a.uid == p.uid\n",
    "        order by a.uid, a.ts asc\n",
    "    ),\n",
    "\n",
    "    latest_action as (\n",
    "        select\n",
    "            uniq_group_label, is_payment_uid, latest_action,\n",
    "            count(distinct uid) as uniq_uid,\n",
    "            round(count(distinct uid) * 1.0 / sum(count(distinct uid)) over (partition by uniq_group_label, is_payment_uid)  * 100, 2)as percent_uid_by_group_payment\n",
    "        from (select\n",
    "                  uniq_group_label, uid,\n",
    "                  json_extract(json_group_array(action), '$[#-1]') as latest_action,\n",
    "                  is_payment_uid\n",
    "              from (select * from data order by uid, ts asc)\n",
    "              group by uniq_group_label, uid)\n",
    "        group by uniq_group_label, is_payment_uid, latest_action\n",
    "    )\n",
    "\n",
    "select * from latest_action;\n",
    "\"\"\"\n",
    "tmp = pd.read_sql_query(sql, connect)\n",
    "\n",
    "# Видим, что драматической разницы в данных нет. Не важно какая группа (control/test) и не важно платил пользователь/не платил. \n",
    "# Все фичи юзаются примерно одинаково. На стат.значимость проверять не будут, так как это не является целью данного исследования. \n",
    "tmp.pivot_table(index='latest_action', columns=['uniq_group_label', 'is_payment_uid'], aggfunc={'percent_uid_by_group_payment':'min'})"
   ],
   "metadata": {
    "collapsed": false,
    "ExecuteTime": {
     "end_time": "2024-06-12T15:28:25.327894Z",
     "start_time": "2024-06-12T15:28:24.824222Z"
    }
   },
   "id": "abab3b53977bf398",
   "execution_count": 58
  },
  {
   "cell_type": "code",
   "outputs": [],
   "source": [
    "# А теперь посчитаем конверсию, которую будем бустить (судя по всему) в нашем \"грядущем\" АБ :)\n",
    "# Так как мы будем менять стоимость продукта с 400 до 160, а покупать могут разное (400/200), то посчитаем конверсию только по тем, кто покупал 400\n",
    "df['income'] = df['arr_payment'].str.extract('(400|160)')"
   ],
   "metadata": {
    "collapsed": false,
    "ExecuteTime": {
     "end_time": "2024-06-12T15:36:19.445711Z",
     "start_time": "2024-06-12T15:36:19.361935Z"
    }
   },
   "id": "8153b234dfc4c375",
   "execution_count": 71
  },
  {
   "cell_type": "code",
   "outputs": [
    {
     "name": "stdout",
     "output_type": "stream",
     "text": [
      "CR: 19.87%\n"
     ]
    }
   ],
   "source": [
    "control_size_all = df[df['uniq_group_label']=='control']['uid'].nunique()\n",
    "control_size_pay = df[(df['uniq_group_label']=='control')&(df['income']=='400')]['uid'].nunique()\n",
    "print(f'CR: {control_size_pay/control_size_all:.2%}')"
   ],
   "metadata": {
    "collapsed": false,
    "ExecuteTime": {
     "end_time": "2024-06-12T15:38:33.517703Z",
     "start_time": "2024-06-12T15:38:33.459866Z"
    }
   },
   "id": "5756bc62d3f1bfd8",
   "execution_count": 82
  },
  {
   "cell_type": "markdown",
   "source": [
    "## Дизайн АБ\n",
    "__Гипотеза__. Если мы уменьши стоимость продукта с 400уе до 160уе, то это позволит увеличить долю платящих пользователей с CR 19.87% на +5.00% (до 24.87%). Потому что продукт станет дешевле с сохранением своего функционала и полезности для пользователей. \n",
    "\n",
    " "
   ],
   "metadata": {
    "collapsed": false
   },
   "id": "428bda439e629473"
  },
  {
   "cell_type": "code",
   "outputs": [],
   "source": [],
   "metadata": {
    "collapsed": false
   },
   "id": "8ccfaf4f3655cc40"
  }
 ],
 "metadata": {
  "kernelspec": {
   "display_name": "Python 3",
   "language": "python",
   "name": "python3"
  },
  "language_info": {
   "codemirror_mode": {
    "name": "ipython",
    "version": 2
   },
   "file_extension": ".py",
   "mimetype": "text/x-python",
   "name": "python",
   "nbconvert_exporter": "python",
   "pygments_lexer": "ipython2",
   "version": "2.7.6"
  }
 },
 "nbformat": 4,
 "nbformat_minor": 5
}
