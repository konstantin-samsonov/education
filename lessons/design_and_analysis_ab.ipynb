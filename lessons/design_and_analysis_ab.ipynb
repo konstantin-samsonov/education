{
 "cells": [
  {
   "cell_type": "code",
   "execution_count": 1,
   "id": "initial_id",
   "metadata": {
    "collapsed": true,
    "ExecuteTime": {
     "end_time": "2024-06-16T09:39:21.665879Z",
     "start_time": "2024-06-16T09:39:21.089034Z"
    }
   },
   "outputs": [],
   "source": [
    "import sqlite3\n",
    "import numpy as np\n",
    "import pandas as pd\n",
    "from statsmodels.stats.proportion import proportions_ztest\n",
    "from scipy.stats import chi2_contingency\n",
    "\n",
    "connect = sqlite3.connect('lessons.sqlite')"
   ]
  },
  {
   "cell_type": "markdown",
   "source": [
    "# Задание\n",
    "Мы хотим снизить стоимость одного из наших продуктов с 400 у.е. до 160 у.е. Необходимо:\n",
    "[ ] Задизайнить эксперимент. В качестве ключевой метрики – взять конверсию в платящего;\n",
    "[ ] Датасет можно исследовать на всех данных, а дизайнить АБ на контрольной группе;\n",
    "[ ] Проанализировать результаты;\n",
    "[ ] Подготовить мини-презентацию результатов;"
   ],
   "metadata": {
    "collapsed": false
   },
   "id": "ef1d06ce3658163b"
  },
  {
   "cell_type": "markdown",
   "source": [
    "# Данные\n",
    "__actions__ – данные о совершаемых пользователем событиях:\n",
    "- uid – идентификатор пользователя; \n",
    "- ts – время совершения события; \n",
    "- action – название события, где `firstOpen` – первое открытие приложения после установки, `function%` – использование какой-либо функции приложения; \n",
    "\n",
    "__experiments__ – данные о принодлежности пользователя к группам эксперимента. Один пользователь может быть в нескольких экспериментах одновременно:\n",
    "- experimetn – название эксперимента;\n",
    "- group – группа в эксперименте (old = control, new = test);\n",
    "- uid – идентификатор пользователя; \n",
    "\n",
    "__payments__ – данные о покупках пользователей. В сервисе есть два типа покупок (товаров), которые могут быть осуществлены одновременно:\n",
    "- uid – идентификатор пользователя;\n",
    "- payment_type – тип покупки;\n",
    "- payment – платеж, который пришел в сервис;  \n"
   ],
   "metadata": {
    "collapsed": false
   },
   "id": "cd5e7250247517f"
  },
  {
   "cell_type": "markdown",
   "source": [
    "# Решение"
   ],
   "metadata": {
    "collapsed": false
   },
   "id": "b6a9d925f9232240"
  },
  {
   "cell_type": "markdown",
   "source": [
    "## Загружаем данные "
   ],
   "metadata": {
    "collapsed": false
   },
   "id": "ade0b175874f2c1b"
  },
  {
   "cell_type": "code",
   "outputs": [],
   "source": [
    "# Выберем только тех пользователей, которые принимали участие в анализируемом нами АБ (paymentChange)\n",
    "sql = \"\"\"\n",
    "with\n",
    "    users_labels as (\n",
    "        select\n",
    "            experiment,\n",
    "            uid,\n",
    "            count(distinct(group_label)) as uniq_group_cnt,\n",
    "            json_group_array(distinct(group_label)) as uniq_group_label\n",
    "        from ab_experiments\n",
    "        where experiment == 'paymentChange'\n",
    "        group by  experiment, uid\n",
    "    ),\n",
    "\n",
    "    users_payments as (\n",
    "        select\n",
    "            uid,\n",
    "            json_group_array(payment_type) as arr_payment_type,\n",
    "            json_group_array(payment) as arr_payment,\n",
    "            count(distinct payment) as uniq_payment_cnt\n",
    "        from ab_payments\n",
    "        group by uid\n",
    "    ),\n",
    "\n",
    "    data as (\n",
    "        select\n",
    "            a.uid, a.ts, date(a.ts) as date, a.action,\n",
    "            l.experiment, l.uniq_group_cnt, json_extract(l.uniq_group_label, '$[0]') as uniq_group_label,\n",
    "            p.arr_payment_type, p.arr_payment,\n",
    "            case when p.uniq_payment_cnt is null then 0 else p.uniq_payment_cnt end as uniq_payment_cnt,\n",
    "            case when p.uniq_payment_cnt is null then 0 else 1 end as is_payment_uid\n",
    "        from ab_actions as a\n",
    "        left join users_labels as l on a.uid == l.uid\n",
    "        left join users_payments as p on a.uid == p.uid\n",
    "        order by a.uid, a.ts asc\n",
    "    )\n",
    "\n",
    "select * from data;\n",
    "\"\"\"\n",
    "df = pd.read_sql_query(sql, connect)\n",
    "df['ts'] = pd.to_datetime(df['ts'])\n",
    "df['date'] = pd.to_datetime(df['date'])"
   ],
   "metadata": {
    "collapsed": false,
    "ExecuteTime": {
     "end_time": "2024-06-16T09:39:26.034700Z",
     "start_time": "2024-06-16T09:39:25.159802Z"
    }
   },
   "id": "edba525572c65d21",
   "execution_count": 2
  },
  {
   "cell_type": "code",
   "outputs": [
    {
     "data": {
      "text/plain": "          uid                  ts       date     action     experiment  \\\n92420   mnbpj 2020-01-16 02:50:24 2020-01-16  firstOpen  paymentChange   \n84013   ljtyv 2020-01-15 17:44:56 2020-01-15  function4  paymentChange   \n106180  ojjdr 2020-01-17 02:39:01 2020-01-17  function2  paymentChange   \n62072   ikwnm 2020-01-15 07:04:37 2020-01-15  function2  paymentChange   \n17079   cggop 2020-01-14 09:00:44 2020-01-14  firstOpen  paymentChange   \n\n        uniq_group_cnt uniq_group_label arr_payment_type arr_payment  \\\n92420                1          control        [\"type2\"]       [200]   \n84013                1             test        [\"type1\"]       [160]   \n106180               1          control        [\"type2\"]       [200]   \n62072                1             test        [\"type1\"]       [160]   \n17079                1          control             None        None   \n\n        uniq_payment_cnt  is_payment_uid  \n92420                  1               1  \n84013                  1               1  \n106180                 1               1  \n62072                  1               1  \n17079                  0               0  ",
      "text/html": "<div>\n<style scoped>\n    .dataframe tbody tr th:only-of-type {\n        vertical-align: middle;\n    }\n\n    .dataframe tbody tr th {\n        vertical-align: top;\n    }\n\n    .dataframe thead th {\n        text-align: right;\n    }\n</style>\n<table border=\"1\" class=\"dataframe\">\n  <thead>\n    <tr style=\"text-align: right;\">\n      <th></th>\n      <th>uid</th>\n      <th>ts</th>\n      <th>date</th>\n      <th>action</th>\n      <th>experiment</th>\n      <th>uniq_group_cnt</th>\n      <th>uniq_group_label</th>\n      <th>arr_payment_type</th>\n      <th>arr_payment</th>\n      <th>uniq_payment_cnt</th>\n      <th>is_payment_uid</th>\n    </tr>\n  </thead>\n  <tbody>\n    <tr>\n      <th>92420</th>\n      <td>mnbpj</td>\n      <td>2020-01-16 02:50:24</td>\n      <td>2020-01-16</td>\n      <td>firstOpen</td>\n      <td>paymentChange</td>\n      <td>1</td>\n      <td>control</td>\n      <td>[\"type2\"]</td>\n      <td>[200]</td>\n      <td>1</td>\n      <td>1</td>\n    </tr>\n    <tr>\n      <th>84013</th>\n      <td>ljtyv</td>\n      <td>2020-01-15 17:44:56</td>\n      <td>2020-01-15</td>\n      <td>function4</td>\n      <td>paymentChange</td>\n      <td>1</td>\n      <td>test</td>\n      <td>[\"type1\"]</td>\n      <td>[160]</td>\n      <td>1</td>\n      <td>1</td>\n    </tr>\n    <tr>\n      <th>106180</th>\n      <td>ojjdr</td>\n      <td>2020-01-17 02:39:01</td>\n      <td>2020-01-17</td>\n      <td>function2</td>\n      <td>paymentChange</td>\n      <td>1</td>\n      <td>control</td>\n      <td>[\"type2\"]</td>\n      <td>[200]</td>\n      <td>1</td>\n      <td>1</td>\n    </tr>\n    <tr>\n      <th>62072</th>\n      <td>ikwnm</td>\n      <td>2020-01-15 07:04:37</td>\n      <td>2020-01-15</td>\n      <td>function2</td>\n      <td>paymentChange</td>\n      <td>1</td>\n      <td>test</td>\n      <td>[\"type1\"]</td>\n      <td>[160]</td>\n      <td>1</td>\n      <td>1</td>\n    </tr>\n    <tr>\n      <th>17079</th>\n      <td>cggop</td>\n      <td>2020-01-14 09:00:44</td>\n      <td>2020-01-14</td>\n      <td>firstOpen</td>\n      <td>paymentChange</td>\n      <td>1</td>\n      <td>control</td>\n      <td>None</td>\n      <td>None</td>\n      <td>0</td>\n      <td>0</td>\n    </tr>\n  </tbody>\n</table>\n</div>"
     },
     "execution_count": 3,
     "metadata": {},
     "output_type": "execute_result"
    }
   ],
   "source": [
    "df.sample(5)"
   ],
   "metadata": {
    "collapsed": false,
    "ExecuteTime": {
     "end_time": "2024-06-16T09:39:26.524095Z",
     "start_time": "2024-06-16T09:39:26.511546Z"
    }
   },
   "id": "6c4c3de65dcb0788",
   "execution_count": 3
  },
  {
   "cell_type": "code",
   "outputs": [],
   "source": [
    "# Разделим данные на control/test \n",
    "control = df[df['uniq_group_label'] == 'control'].copy()\n",
    "test = df[df['uniq_group_label'] == 'test'].copy()"
   ],
   "metadata": {
    "collapsed": false,
    "ExecuteTime": {
     "end_time": "2024-06-16T09:39:27.152649Z",
     "start_time": "2024-06-16T09:39:27.096271Z"
    }
   },
   "id": "87a690593251c173",
   "execution_count": 4
  },
  {
   "cell_type": "markdown",
   "source": [
    "## Изучаем \"прошлое\" по контрольной группе"
   ],
   "metadata": {
    "collapsed": false
   },
   "id": "b0d4bbd5df9d8f65"
  },
  {
   "cell_type": "code",
   "outputs": [
    {
     "name": "stdout",
     "output_type": "stream",
     "text": [
      "control_total: 25001, control_400_users: 3118 control_400_cr: 12.47%, control_400_var: 0.1092\n"
     ]
    }
   ],
   "source": [
    "# Наша цель – провести АБ на снижение стоимости продукта с 400 до 160.\n",
    "# Так как пользователи могут покупать несколько продуктов и мы не можем восстановить хронологию (нет ts покупок), \n",
    "# то будем считать CR только по тем кто совершил единственную покупку по 400 \n",
    "control.loc[control['arr_payment'] == '[400]', 'is_400'] = 1\n",
    "control_pay = control.groupby('uid')['is_400'].max().fillna(0)\n",
    "control_total = control_pay.shape[0]\n",
    "control_400_users = control_pay[control_pay.values == 1].shape[0]\n",
    "control_400_cr = control_pay.mean()\n",
    "control_400_var = control_pay.var()\n",
    "\n",
    "print(\n",
    "    f'control_total: {control_total}, control_400_users: {control_400_users}',\n",
    "    f'control_400_cr: {control_400_cr:.2%}, control_400_var: {control_400_var:.4f}'\n",
    ")\n",
    "\n",
    "# В какой-то итерации была попытка выяснить как последовательность действий (action) влияет на CR, но к успеху это не привело. \n",
    "# Единственное, что удалось выяснить, что пользователи весьма активно юзают все фичи (feature1,2,3,4). И эта активность не зависит от группы АБ и/или\n",
    "# наличия/отсутствия статусу покупателя. "
   ],
   "metadata": {
    "collapsed": false,
    "ExecuteTime": {
     "end_time": "2024-06-16T09:39:28.670103Z",
     "start_time": "2024-06-16T09:39:28.642522Z"
    }
   },
   "id": "cd67c0a81df7608e",
   "execution_count": 5
  },
  {
   "cell_type": "markdown",
   "source": [
    "## Дизайн АБ\n",
    "__Гипотеза__. Если мы уменьшим стоимость продукта с 400уе до 160уе, то это позволит увеличить долю платящих пользователей с CR 12.47% до 22.47% (+10%). Потому что продукт станет дешевле с сохранением своего функционала и полезности для пользователей. При этом мы возьмем для теста alpha=0.05, beta=0.2\n",
    "\n",
    "__Сегментация ЦА__. Чтобы минимизировать возможное количество негатива от старых пользователей, будем предлагать новую цену (160уе) только тем пользователям, которые не покупали продукт за 400уе (Судя по данным именно это и было сделано). И чтобы избежать сетевого эффекта, будем анализировать только тех пользователей, которые совершили одну покупку за 400 в контрольной группе или за 160 в тестовой. \n",
    "\n",
    "__Длительность эксперимента и MDE__. \n",
    "Так как у нас все фиксированно (АБ уже прошел), то MDE посчитаем для всего временного периода АБ (12 дней). Сделаем это для того, чтобы понимать – хватает у нас \"исторических\" данных, чтобы зафиксировать желаемое изменение. "
   ],
   "metadata": {
    "collapsed": false
   },
   "id": "4685e01d676c16e3"
  },
  {
   "cell_type": "code",
   "outputs": [
    {
     "name": "stdout",
     "output_type": "stream",
     "text": [
      "mde_absolute: 0.0117\n",
      "mde_relative: 9.39%\n",
      "up_lift: 0.01247\n"
     ]
    }
   ],
   "source": [
    "# Для расчета MDE используем формулу и сразу подставим в нее \"константу\" для выбранных нами alpha/beta: -(Z_{alpha/2} +Z_{beta} = -2.802\n",
    "z_score = -2.802\n",
    "mde_absolute = (-1 * z_score) * (np.sqrt(4 * control_400_var / control_total))\n",
    "mde_relative = (mde_absolute / control_400_cr * 100)\n",
    "up_lift = control_400_cr * 0.1\n",
    "\n",
    "print(f'mde_absolute: {mde_absolute:.4f}\\n'\n",
    "      f'mde_relative: {mde_relative:.2f}%\\n'\n",
    "      f'up_lift: {up_lift:.5f}')\n",
    "\n",
    "# Отлично! За 12 дней мы сможем задетектить (с желаемой alpha/beta) стат.значимый прирост на +9.39% и выше.   \n",
    "# Соответствующий абсолютный прирост будет равен 12.47% (CRhist) * 10% (CRwaiting) = 0.1247 "
   ],
   "metadata": {
    "collapsed": false,
    "ExecuteTime": {
     "end_time": "2024-06-16T10:24:35.612884Z",
     "start_time": "2024-06-16T10:24:35.609009Z"
    }
   },
   "id": "f4670f4195ed7dfe",
   "execution_count": 103
  },
  {
   "cell_type": "markdown",
   "source": [
    "## Результаты АБ"
   ],
   "metadata": {
    "collapsed": false
   },
   "id": "a59dfb49cfac4dd0"
  },
  {
   "cell_type": "code",
   "outputs": [],
   "source": [
    "# В данные с тестовой группой добавим (как и в контроль) явный признак, что пользователь сделал только одну покупку продукта за 160 \n",
    "test.loc[test['arr_payment'] == '[160]', 'is_160'] = 1\n",
    "\n",
    "# Объединим control и test в одни DataFrame (можно было и не разделять)\n",
    "results = pd.concat([\n",
    "    control[['uid', 'date', 'action', 'uniq_group_label', 'is_400']],\n",
    "    test[['uid', 'date', 'action', 'uniq_group_label', 'is_160']]\n",
    "])\n",
    "results.fillna(0, inplace=True)"
   ],
   "metadata": {
    "collapsed": false,
    "ExecuteTime": {
     "end_time": "2024-06-16T09:40:40.577001Z",
     "start_time": "2024-06-16T09:40:40.478388Z"
    }
   },
   "id": "370e13588758981d",
   "execution_count": 8
  },
  {
   "cell_type": "code",
   "outputs": [
    {
     "data": {
      "text/plain": "<Figure size 1080x360 with 1 Axes>",
      "image/png": "[encoded data removed]"
     },
     "metadata": {
      "needs_background": "light"
     },
     "output_type": "display_data"
    }
   ],
   "source": [
    "# Прежде чем переходить к анализу АБ сделаем несколько базовых проверок\n",
    "# Проверим, равномерность наполнения групп в тесте\n",
    "check_users = results[results['action'] == 'firstOpen'].pivot_table(index='date', columns='uniq_group_label',\n",
    "                                                                    aggfunc={'uid': 'count'})\n",
    "check_users.plot(kind='bar', figsize=(15, 5), legend=False);"
   ],
   "metadata": {
    "collapsed": false,
    "ExecuteTime": {
     "end_time": "2024-06-16T09:40:43.132455Z",
     "start_time": "2024-06-16T09:40:42.798301Z"
    }
   },
   "id": "15a3019a16ac1f7a",
   "execution_count": 9
  },
  {
   "cell_type": "code",
   "outputs": [
    {
     "data": {
      "text/plain": "<Figure size 1080x360 with 1 Axes>",
      "image/png": "[encoded data removed]"
     },
     "metadata": {
      "needs_background": "light"
     },
     "output_type": "display_data"
    }
   ],
   "source": [
    "# Посмотрим ежедневную динамику CR, чтобы убедиться в отсутствии каких-то аномальных скачков. \n",
    "check_cr = results.pivot_table(index='date', columns='uniq_group_label',\n",
    "                               aggfunc={'is_400': 'mean', 'is_160': 'mean'})\n",
    "\n",
    "check_cr = pd.concat([check_cr.loc[:, 'is_400']['control'],\n",
    "                      check_cr.loc[:, 'is_160']['test']], axis=1)\n",
    "\n",
    "check_cr.plot(kind='line', figsize=(15, 5));"
   ],
   "metadata": {
    "collapsed": false,
    "ExecuteTime": {
     "end_time": "2024-06-16T09:40:44.157615Z",
     "start_time": "2024-06-16T09:40:44.055238Z"
    }
   },
   "id": "2df8592c70886af3",
   "execution_count": 10
  },
  {
   "cell_type": "code",
   "outputs": [
    {
     "name": "stdout",
     "output_type": "stream",
     "text": [
      "group_a_400: total: 25001, success: 3118, cr: 12.47%, var: 0.1092\n",
      "group_b_160: total: 25000, success: 7791, cr: 31.16%, var: 0.2145\n"
     ]
    }
   ],
   "source": [
    "# Посчитаем метрики по контрольной группе и сравним их с тестовой\n",
    "test_pay = test.groupby('uid')['is_160'].max().fillna(0)\n",
    "test_total = test_pay.shape[0]\n",
    "test_160_users = test_pay[test_pay.values == 1].shape[0]\n",
    "test_160_cr = test_pay.mean()\n",
    "test_160_var = test_pay.var()\n",
    "\n",
    "print(\n",
    "    f'group_a_400: total: {control_total}, success: {control_400_users}, cr: {control_400_cr:.2%}, var: {control_400_var:.4f}\\n'\n",
    "    f'group_b_160: total: {test_total}, success: {test_160_users}, cr: {test_160_cr:.2%}, var: {test_160_var:.4f}'\n",
    ")\n",
    "\n",
    "# Уф, кажется у нас успешный успех. Мы ожидали прирост в +10%, а получили сильно больше.\n"
   ],
   "metadata": {
    "collapsed": false,
    "ExecuteTime": {
     "end_time": "2024-06-16T10:31:30.554775Z",
     "start_time": "2024-06-16T10:31:30.534111Z"
    }
   },
   "id": "91fe218bfbd1cc2",
   "execution_count": 105
  },
  {
   "cell_type": "code",
   "outputs": [
    {
     "name": "stdout",
     "output_type": "stream",
     "text": [
      "z_score: -50.60215194500424, p_value: 0.0\n",
      "Статистически значимая разница в конверсиях между двумя группами (отвергаем нулевую гипотезу).\n"
     ]
    }
   ],
   "source": [
    "# Проведем стат.тест, чтобы подтвердить результаты \n",
    "alpha = 0.05\n",
    "beta = 0.20\n",
    "\n",
    "z_score, p_value_z = proportions_ztest(\n",
    "    count=[control_400_users, test_160_users],\n",
    "    nobs=[control_total, test_total],\n",
    "    alternative='two-sided')\n",
    "\n",
    "if p_value_z < alpha:\n",
    "    res = \"Статистически значимая разница в конверсиях между двумя группами (отвергаем нулевую гипотезу).\"\n",
    "else:\n",
    "    res = \"Нет статистически значимой разницы в конверсиях между двумя группами (не отвергаем нулевую гипотезу).\"\n",
    "\n",
    "# Отлично! Подтвердили, что разница в CR стат.значимая. \n",
    "print(f'z_score: {z_score}, p_value: {p_value_z}\\n{res}')"
   ],
   "metadata": {
    "collapsed": false,
    "ExecuteTime": {
     "end_time": "2024-06-16T10:00:19.521133Z",
     "start_time": "2024-06-16T10:00:19.517346Z"
    }
   },
   "id": "654eb3ab542ff565",
   "execution_count": 62
  },
  {
   "cell_type": "code",
   "outputs": [
    {
     "name": "stdout",
     "output_type": "stream",
     "text": [
      "group_a_400: pay_users: 3118, income: 1_247_200 rub.\n",
      "group_b_160: pay_users: 7791, income: 1_246_560 rub.\n"
     ]
    }
   ],
   "source": [
    "# А давайте теперь еще и на деньги посмотрим. CR мы круто увеличили, но что по бизнесу?\n",
    "print(f'group_a_400: pay_users: {control_400_users}, income: {control_400_users * 400:_} rub.\\n'\n",
    "      f'group_b_160: pay_users: {test_160_users}, income: {test_160_users * 160:_} rub.')"
   ],
   "metadata": {
    "collapsed": false,
    "ExecuteTime": {
     "end_time": "2024-06-16T10:07:36.460988Z",
     "start_time": "2024-06-16T10:07:36.458740Z"
    }
   },
   "id": "501864d482d8f12c",
   "execution_count": 83
  },
  {
   "cell_type": "code",
   "outputs": [
    {
     "name": "stdout",
     "output_type": "stream",
     "text": [
      "group_a_400_200: pay_users: 1850, percent: 7.40%\n",
      "group_b_160_200: pay_users: 4678, percent: 18.71%\n"
     ]
    }
   ],
   "source": [
    "# Упс, как-то сильно больше денег не стало, но у нас же есть пользователи, которые купили несколько продуктов.\n",
    "# Что если первая покупка за 160 увеличивает количество последующих покупок за 200?\n",
    "# На имеющихся данных мы не можем точно ответить на этот вопрос, нужно узнать ts покупок.\n",
    "# Но мы можем посмотреть размер/долю пользователей которые делали покупки [400,200] и [160,200]\n",
    "# И увидим, что в тестовой группе доля покупающих второй раз сильно больше. Стоит детальнее исследовать данный вопрос.\n",
    "control_400_200_users = df[df['arr_payment'] == '[400,200]']['uid'].nunique()\n",
    "test_160_200_users = df[df['arr_payment'] == '[160,200]']['uid'].nunique()\n",
    "\n",
    "print(f'group_a_400_200: pay_users: {control_400_200_users}, percent: {control_400_200_users / control_total:.2%}\\n'\n",
    "      f'group_b_160_200: pay_users: {test_160_200_users}, percent: {test_160_200_users / test_total:.2%}')"
   ],
   "metadata": {
    "collapsed": false,
    "ExecuteTime": {
     "end_time": "2024-06-16T10:13:00.341735Z",
     "start_time": "2024-06-16T10:13:00.315273Z"
    }
   },
   "id": "1783fec64ed188fc",
   "execution_count": 88
  },
  {
   "cell_type": "code",
   "outputs": [],
   "source": [
    "x = df[(df['arr_payment']=='[400]')&(df['uniq_group_label']=='control')]['uid'].nunique()\n",
    "y = df[(df['arr_payment']=='[200]')&(df['uniq_group_label']=='control')]['uid'].nunique()\n",
    "xy = df[(df['arr_payment']=='[400,200]')&(df['uniq_group_label']=='control')]['uid'].nunique()"
   ],
   "metadata": {
    "collapsed": false,
    "ExecuteTime": {
     "end_time": "2024-06-16T10:20:59.237686Z",
     "start_time": "2024-06-16T10:20:59.139662Z"
    }
   },
   "id": "279cc00a5f42d89a",
   "execution_count": 96
  },
  {
   "cell_type": "code",
   "outputs": [
    {
     "data": {
      "text/plain": "0.12471501139954402"
     },
     "execution_count": 99,
     "metadata": {},
     "output_type": "execute_result"
    }
   ],
   "source": [
    "x / control_total "
   ],
   "metadata": {
    "collapsed": false,
    "ExecuteTime": {
     "end_time": "2024-06-16T10:21:19.194022Z",
     "start_time": "2024-06-16T10:21:19.191291Z"
    }
   },
   "id": "5f84b31a787384f0",
   "execution_count": 99
  },
  {
   "cell_type": "code",
   "outputs": [
    {
     "data": {
      "text/plain": "0.29770809167633294"
     },
     "execution_count": 100,
     "metadata": {},
     "output_type": "execute_result"
    }
   ],
   "source": [
    "y / control_total"
   ],
   "metadata": {
    "collapsed": false,
    "ExecuteTime": {
     "end_time": "2024-06-16T10:21:24.636179Z",
     "start_time": "2024-06-16T10:21:24.633149Z"
    }
   },
   "id": "8c9f3651521edd28",
   "execution_count": 100
  },
  {
   "cell_type": "code",
   "outputs": [
    {
     "data": {
      "text/plain": "7.3997040118395265"
     },
     "execution_count": 102,
     "metadata": {},
     "output_type": "execute_result"
    }
   ],
   "source": [
    "xy / control_total * 100"
   ],
   "metadata": {
    "collapsed": false,
    "ExecuteTime": {
     "end_time": "2024-06-16T10:22:19.711534Z",
     "start_time": "2024-06-16T10:22:19.707997Z"
    }
   },
   "id": "101d74c554d48d57",
   "execution_count": 102
  },
  {
   "cell_type": "code",
   "outputs": [],
   "source": [],
   "metadata": {
    "collapsed": false
   },
   "id": "5358ad078064ff7d"
  }
 ],
 "metadata": {
  "kernelspec": {
   "display_name": "Python 3",
   "language": "python",
   "name": "python3"
  },
  "language_info": {
   "codemirror_mode": {
    "name": "ipython",
    "version": 2
   },
   "file_extension": ".py",
   "mimetype": "text/x-python",
   "name": "python",
   "nbconvert_exporter": "python",
   "pygments_lexer": "ipython2",
   "version": "2.7.6"
  }
 },
 "nbformat": 4,
 "nbformat_minor": 5
}
