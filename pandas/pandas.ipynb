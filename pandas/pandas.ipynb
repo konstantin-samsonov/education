{
 "cells": [
  {
   "cell_type": "code",
   "execution_count": 1,
   "id": "initial_id",
   "metadata": {
    "collapsed": true,
    "ExecuteTime": {
     "end_time": "2024-05-28T10:33:25.273358Z",
     "start_time": "2024-05-28T10:33:24.871283Z"
    }
   },
   "outputs": [],
   "source": [
    "import pandas as pd "
   ]
  },
  {
   "cell_type": "code",
   "outputs": [],
   "source": [
    "df = pd.read_csv(\"Housing.csv\")"
   ],
   "metadata": {
    "collapsed": false,
    "ExecuteTime": {
     "end_time": "2024-05-28T10:33:32.340837Z",
     "start_time": "2024-05-28T10:33:32.333821Z"
    }
   },
   "id": "96a7d06d806c2bd",
   "execution_count": 2
  },
  {
   "cell_type": "code",
   "outputs": [
    {
     "data": {
      "text/plain": "       price  area  bedrooms  bathrooms  stories mainroad guestroom basement  \\\n19   8855000  6420         3          2        2      yes        no       no   \n504  2653000  3185         2          1        1      yes        no       no   \n374  3640000  3520         2          2        1      yes        no      yes   \n288  4200000  5040         3          1        2      yes        no      yes   \n12   9310000  6550         4          2        2      yes        no       no   \n\n    hotwaterheating airconditioning  parking prefarea furnishingstatus  \n19               no             yes        1      yes   semi-furnished  \n504              no             yes        0       no      unfurnished  \n374              no              no        0       no   semi-furnished  \n288              no             yes        0       no      unfurnished  \n12               no             yes        1      yes   semi-furnished  ",
      "text/html": "<div>\n<style scoped>\n    .dataframe tbody tr th:only-of-type {\n        vertical-align: middle;\n    }\n\n    .dataframe tbody tr th {\n        vertical-align: top;\n    }\n\n    .dataframe thead th {\n        text-align: right;\n    }\n</style>\n<table border=\"1\" class=\"dataframe\">\n  <thead>\n    <tr style=\"text-align: right;\">\n      <th></th>\n      <th>price</th>\n      <th>area</th>\n      <th>bedrooms</th>\n      <th>bathrooms</th>\n      <th>stories</th>\n      <th>mainroad</th>\n      <th>guestroom</th>\n      <th>basement</th>\n      <th>hotwaterheating</th>\n      <th>airconditioning</th>\n      <th>parking</th>\n      <th>prefarea</th>\n      <th>furnishingstatus</th>\n    </tr>\n  </thead>\n  <tbody>\n    <tr>\n      <th>19</th>\n      <td>8855000</td>\n      <td>6420</td>\n      <td>3</td>\n      <td>2</td>\n      <td>2</td>\n      <td>yes</td>\n      <td>no</td>\n      <td>no</td>\n      <td>no</td>\n      <td>yes</td>\n      <td>1</td>\n      <td>yes</td>\n      <td>semi-furnished</td>\n    </tr>\n    <tr>\n      <th>504</th>\n      <td>2653000</td>\n      <td>3185</td>\n      <td>2</td>\n      <td>1</td>\n      <td>1</td>\n      <td>yes</td>\n      <td>no</td>\n      <td>no</td>\n      <td>no</td>\n      <td>yes</td>\n      <td>0</td>\n      <td>no</td>\n      <td>unfurnished</td>\n    </tr>\n    <tr>\n      <th>374</th>\n      <td>3640000</td>\n      <td>3520</td>\n      <td>2</td>\n      <td>2</td>\n      <td>1</td>\n      <td>yes</td>\n      <td>no</td>\n      <td>yes</td>\n      <td>no</td>\n      <td>no</td>\n      <td>0</td>\n      <td>no</td>\n      <td>semi-furnished</td>\n    </tr>\n    <tr>\n      <th>288</th>\n      <td>4200000</td>\n      <td>5040</td>\n      <td>3</td>\n      <td>1</td>\n      <td>2</td>\n      <td>yes</td>\n      <td>no</td>\n      <td>yes</td>\n      <td>no</td>\n      <td>yes</td>\n      <td>0</td>\n      <td>no</td>\n      <td>unfurnished</td>\n    </tr>\n    <tr>\n      <th>12</th>\n      <td>9310000</td>\n      <td>6550</td>\n      <td>4</td>\n      <td>2</td>\n      <td>2</td>\n      <td>yes</td>\n      <td>no</td>\n      <td>no</td>\n      <td>no</td>\n      <td>yes</td>\n      <td>1</td>\n      <td>yes</td>\n      <td>semi-furnished</td>\n    </tr>\n  </tbody>\n</table>\n</div>"
     },
     "execution_count": 4,
     "metadata": {},
     "output_type": "execute_result"
    }
   ],
   "source": [
    "df.sample(5)"
   ],
   "metadata": {
    "collapsed": false,
    "ExecuteTime": {
     "end_time": "2024-05-28T10:33:42.409975Z",
     "start_time": "2024-05-28T10:33:42.401205Z"
    }
   },
   "id": "b2e6e85f2a0a381f",
   "execution_count": 4
  },
  {
   "cell_type": "code",
   "outputs": [
    {
     "data": {
      "text/plain": "     area  bedrooms  bathrooms  stories\n10  13200         3          1        2\n11   6000         4          3        2\n12   6550         4          2        2\n13   3500         4          2        2\n14   7800         3          2        2",
      "text/html": "<div>\n<style scoped>\n    .dataframe tbody tr th:only-of-type {\n        vertical-align: middle;\n    }\n\n    .dataframe tbody tr th {\n        vertical-align: top;\n    }\n\n    .dataframe thead th {\n        text-align: right;\n    }\n</style>\n<table border=\"1\" class=\"dataframe\">\n  <thead>\n    <tr style=\"text-align: right;\">\n      <th></th>\n      <th>area</th>\n      <th>bedrooms</th>\n      <th>bathrooms</th>\n      <th>stories</th>\n    </tr>\n  </thead>\n  <tbody>\n    <tr>\n      <th>10</th>\n      <td>13200</td>\n      <td>3</td>\n      <td>1</td>\n      <td>2</td>\n    </tr>\n    <tr>\n      <th>11</th>\n      <td>6000</td>\n      <td>4</td>\n      <td>3</td>\n      <td>2</td>\n    </tr>\n    <tr>\n      <th>12</th>\n      <td>6550</td>\n      <td>4</td>\n      <td>2</td>\n      <td>2</td>\n    </tr>\n    <tr>\n      <th>13</th>\n      <td>3500</td>\n      <td>4</td>\n      <td>2</td>\n      <td>2</td>\n    </tr>\n    <tr>\n      <th>14</th>\n      <td>7800</td>\n      <td>3</td>\n      <td>2</td>\n      <td>2</td>\n    </tr>\n  </tbody>\n</table>\n</div>"
     },
     "execution_count": 20,
     "metadata": {},
     "output_type": "execute_result"
    }
   ],
   "source": [
    "df.loc[10:14, \"area\":\"stories\"]"
   ],
   "metadata": {
    "collapsed": false,
    "ExecuteTime": {
     "end_time": "2024-05-28T10:38:14.026287Z",
     "start_time": "2024-05-28T10:38:14.022720Z"
    }
   },
   "id": "c4767677e221e854",
   "execution_count": 20
  },
  {
   "cell_type": "code",
   "outputs": [
    {
     "data": {
      "text/plain": "     area  bedrooms  bathrooms  stories\n10  13200         3          1        2\n11   6000         4          3        2\n12   6550         4          2        2\n13   3500         4          2        2",
      "text/html": "<div>\n<style scoped>\n    .dataframe tbody tr th:only-of-type {\n        vertical-align: middle;\n    }\n\n    .dataframe tbody tr th {\n        vertical-align: top;\n    }\n\n    .dataframe thead th {\n        text-align: right;\n    }\n</style>\n<table border=\"1\" class=\"dataframe\">\n  <thead>\n    <tr style=\"text-align: right;\">\n      <th></th>\n      <th>area</th>\n      <th>bedrooms</th>\n      <th>bathrooms</th>\n      <th>stories</th>\n    </tr>\n  </thead>\n  <tbody>\n    <tr>\n      <th>10</th>\n      <td>13200</td>\n      <td>3</td>\n      <td>1</td>\n      <td>2</td>\n    </tr>\n    <tr>\n      <th>11</th>\n      <td>6000</td>\n      <td>4</td>\n      <td>3</td>\n      <td>2</td>\n    </tr>\n    <tr>\n      <th>12</th>\n      <td>6550</td>\n      <td>4</td>\n      <td>2</td>\n      <td>2</td>\n    </tr>\n    <tr>\n      <th>13</th>\n      <td>3500</td>\n      <td>4</td>\n      <td>2</td>\n      <td>2</td>\n    </tr>\n  </tbody>\n</table>\n</div>"
     },
     "execution_count": 26,
     "metadata": {},
     "output_type": "execute_result"
    }
   ],
   "source": [
    "df.iloc[10:14, 1:5]"
   ],
   "metadata": {
    "collapsed": false,
    "ExecuteTime": {
     "end_time": "2024-05-28T10:38:56.936174Z",
     "start_time": "2024-05-28T10:38:56.931923Z"
    }
   },
   "id": "882fd401535e4973",
   "execution_count": 26
  },
  {
   "cell_type": "code",
   "outputs": [
    {
     "data": {
      "text/plain": "0      13300000\n1      12250000\n3      12215000\n4      11410000\n6      10150000\n         ...   \n487     2870000\n488     2852500\n523     2380000\n534     2100000\n536     1960000\nName: price, Length: 105, dtype: int64"
     },
     "execution_count": 38,
     "metadata": {},
     "output_type": "execute_result"
    }
   ],
   "source": [
    "df.query(\"bedrooms in [4, 5]\")[\"price\"]"
   ],
   "metadata": {
    "collapsed": false,
    "ExecuteTime": {
     "end_time": "2024-05-28T10:42:37.582480Z",
     "start_time": "2024-05-28T10:42:37.575622Z"
    }
   },
   "id": "7532619633a67b11",
   "execution_count": 38
  },
  {
   "cell_type": "code",
   "outputs": [
    {
     "data": {
      "text/plain": "       price  area  bedrooms  bathrooms  stories mainroad guestroom basement  \\\n79   6650000  6000         3          2        3      yes       yes       no   \n538  1890000  3649         2          1        1      yes        no       no   \n291  4200000  2953         3          1        2      yes        no      yes   \n293  4200000  4410         2          1        1       no        no       no   \n302  4200000  2145         3          1        3      yes        no       no   \n\n    hotwaterheating airconditioning  parking prefarea furnishingstatus  \n79               no             yes        0       no        furnished  \n538              no              no        0       no      unfurnished  \n291              no             yes        0       no      unfurnished  \n293              no              no        1       no      unfurnished  \n302              no              no        1      yes      unfurnished  ",
      "text/html": "<div>\n<style scoped>\n    .dataframe tbody tr th:only-of-type {\n        vertical-align: middle;\n    }\n\n    .dataframe tbody tr th {\n        vertical-align: top;\n    }\n\n    .dataframe thead th {\n        text-align: right;\n    }\n</style>\n<table border=\"1\" class=\"dataframe\">\n  <thead>\n    <tr style=\"text-align: right;\">\n      <th></th>\n      <th>price</th>\n      <th>area</th>\n      <th>bedrooms</th>\n      <th>bathrooms</th>\n      <th>stories</th>\n      <th>mainroad</th>\n      <th>guestroom</th>\n      <th>basement</th>\n      <th>hotwaterheating</th>\n      <th>airconditioning</th>\n      <th>parking</th>\n      <th>prefarea</th>\n      <th>furnishingstatus</th>\n    </tr>\n  </thead>\n  <tbody>\n    <tr>\n      <th>79</th>\n      <td>6650000</td>\n      <td>6000</td>\n      <td>3</td>\n      <td>2</td>\n      <td>3</td>\n      <td>yes</td>\n      <td>yes</td>\n      <td>no</td>\n      <td>no</td>\n      <td>yes</td>\n      <td>0</td>\n      <td>no</td>\n      <td>furnished</td>\n    </tr>\n    <tr>\n      <th>538</th>\n      <td>1890000</td>\n      <td>3649</td>\n      <td>2</td>\n      <td>1</td>\n      <td>1</td>\n      <td>yes</td>\n      <td>no</td>\n      <td>no</td>\n      <td>no</td>\n      <td>no</td>\n      <td>0</td>\n      <td>no</td>\n      <td>unfurnished</td>\n    </tr>\n    <tr>\n      <th>291</th>\n      <td>4200000</td>\n      <td>2953</td>\n      <td>3</td>\n      <td>1</td>\n      <td>2</td>\n      <td>yes</td>\n      <td>no</td>\n      <td>yes</td>\n      <td>no</td>\n      <td>yes</td>\n      <td>0</td>\n      <td>no</td>\n      <td>unfurnished</td>\n    </tr>\n    <tr>\n      <th>293</th>\n      <td>4200000</td>\n      <td>4410</td>\n      <td>2</td>\n      <td>1</td>\n      <td>1</td>\n      <td>no</td>\n      <td>no</td>\n      <td>no</td>\n      <td>no</td>\n      <td>no</td>\n      <td>1</td>\n      <td>no</td>\n      <td>unfurnished</td>\n    </tr>\n    <tr>\n      <th>302</th>\n      <td>4200000</td>\n      <td>2145</td>\n      <td>3</td>\n      <td>1</td>\n      <td>3</td>\n      <td>yes</td>\n      <td>no</td>\n      <td>no</td>\n      <td>no</td>\n      <td>no</td>\n      <td>1</td>\n      <td>yes</td>\n      <td>unfurnished</td>\n    </tr>\n  </tbody>\n</table>\n</div>"
     },
     "execution_count": 39,
     "metadata": {},
     "output_type": "execute_result"
    }
   ],
   "source": [
    "df.sample(5)"
   ],
   "metadata": {
    "collapsed": false,
    "ExecuteTime": {
     "end_time": "2024-05-28T10:44:42.602969Z",
     "start_time": "2024-05-28T10:44:42.596689Z"
    }
   },
   "id": "ba2954f514247ef8",
   "execution_count": 39
  },
  {
   "cell_type": "code",
   "outputs": [
    {
     "data": {
      "text/plain": "    bedrooms  bathrooms    new_col\n0          1          1    5425000\n1          2          1  460397000\n2          2          2   33558000\n3          3          1  999820500\n4          3          2  459328940\n5          3          3   27230000\n6          4          1  197844500\n7          4          2  305231500\n8          4          3   29001000\n9          4          4   12250000\n10         5          1   19985000\n11         5          2   21623000\n12         5          3   16590000\n13         6          1    3500000\n14         6          2    6083000",
      "text/html": "<div>\n<style scoped>\n    .dataframe tbody tr th:only-of-type {\n        vertical-align: middle;\n    }\n\n    .dataframe tbody tr th {\n        vertical-align: top;\n    }\n\n    .dataframe thead th {\n        text-align: right;\n    }\n</style>\n<table border=\"1\" class=\"dataframe\">\n  <thead>\n    <tr style=\"text-align: right;\">\n      <th></th>\n      <th>bedrooms</th>\n      <th>bathrooms</th>\n      <th>new_col</th>\n    </tr>\n  </thead>\n  <tbody>\n    <tr>\n      <th>0</th>\n      <td>1</td>\n      <td>1</td>\n      <td>5425000</td>\n    </tr>\n    <tr>\n      <th>1</th>\n      <td>2</td>\n      <td>1</td>\n      <td>460397000</td>\n    </tr>\n    <tr>\n      <th>2</th>\n      <td>2</td>\n      <td>2</td>\n      <td>33558000</td>\n    </tr>\n    <tr>\n      <th>3</th>\n      <td>3</td>\n      <td>1</td>\n      <td>999820500</td>\n    </tr>\n    <tr>\n      <th>4</th>\n      <td>3</td>\n      <td>2</td>\n      <td>459328940</td>\n    </tr>\n    <tr>\n      <th>5</th>\n      <td>3</td>\n      <td>3</td>\n      <td>27230000</td>\n    </tr>\n    <tr>\n      <th>6</th>\n      <td>4</td>\n      <td>1</td>\n      <td>197844500</td>\n    </tr>\n    <tr>\n      <th>7</th>\n      <td>4</td>\n      <td>2</td>\n      <td>305231500</td>\n    </tr>\n    <tr>\n      <th>8</th>\n      <td>4</td>\n      <td>3</td>\n      <td>29001000</td>\n    </tr>\n    <tr>\n      <th>9</th>\n      <td>4</td>\n      <td>4</td>\n      <td>12250000</td>\n    </tr>\n    <tr>\n      <th>10</th>\n      <td>5</td>\n      <td>1</td>\n      <td>19985000</td>\n    </tr>\n    <tr>\n      <th>11</th>\n      <td>5</td>\n      <td>2</td>\n      <td>21623000</td>\n    </tr>\n    <tr>\n      <th>12</th>\n      <td>5</td>\n      <td>3</td>\n      <td>16590000</td>\n    </tr>\n    <tr>\n      <th>13</th>\n      <td>6</td>\n      <td>1</td>\n      <td>3500000</td>\n    </tr>\n    <tr>\n      <th>14</th>\n      <td>6</td>\n      <td>2</td>\n      <td>6083000</td>\n    </tr>\n  </tbody>\n</table>\n</div>"
     },
     "execution_count": 49,
     "metadata": {},
     "output_type": "execute_result"
    }
   ],
   "source": [
    "df.groupby([\"bedrooms\", \"bathrooms\"]).agg(new_col=(\"price\", \"sum\")).reset_index()"
   ],
   "metadata": {
    "collapsed": false,
    "ExecuteTime": {
     "end_time": "2024-05-28T10:47:39.941937Z",
     "start_time": "2024-05-28T10:47:39.935013Z"
    }
   },
   "id": "6293bb2a6e121d9c",
   "execution_count": 49
  },
  {
   "cell_type": "code",
   "outputs": [
    {
     "data": {
      "text/plain": "                      mean                      \nairconditioning         no        yes        All\nbedrooms                                        \n1                2712000.0        NaN  2712000.0\n2                3509000.0  4269000.0  3632000.0\n3                4354000.0  6038000.0  4955000.0\n4                4864000.0  6921000.0  5730000.0\n5                5820000.0  5819000.0  5820000.0\n6                4792000.0        NaN  4792000.0\nAll              4192000.0  6013000.0  4767000.0",
      "text/html": "<div>\n<style scoped>\n    .dataframe tbody tr th:only-of-type {\n        vertical-align: middle;\n    }\n\n    .dataframe tbody tr th {\n        vertical-align: top;\n    }\n\n    .dataframe thead tr th {\n        text-align: left;\n    }\n\n    .dataframe thead tr:last-of-type th {\n        text-align: right;\n    }\n</style>\n<table border=\"1\" class=\"dataframe\">\n  <thead>\n    <tr>\n      <th></th>\n      <th colspan=\"3\" halign=\"left\">mean</th>\n    </tr>\n    <tr>\n      <th>airconditioning</th>\n      <th>no</th>\n      <th>yes</th>\n      <th>All</th>\n    </tr>\n    <tr>\n      <th>bedrooms</th>\n      <th></th>\n      <th></th>\n      <th></th>\n    </tr>\n  </thead>\n  <tbody>\n    <tr>\n      <th>1</th>\n      <td>2712000.0</td>\n      <td>NaN</td>\n      <td>2712000.0</td>\n    </tr>\n    <tr>\n      <th>2</th>\n      <td>3509000.0</td>\n      <td>4269000.0</td>\n      <td>3632000.0</td>\n    </tr>\n    <tr>\n      <th>3</th>\n      <td>4354000.0</td>\n      <td>6038000.0</td>\n      <td>4955000.0</td>\n    </tr>\n    <tr>\n      <th>4</th>\n      <td>4864000.0</td>\n      <td>6921000.0</td>\n      <td>5730000.0</td>\n    </tr>\n    <tr>\n      <th>5</th>\n      <td>5820000.0</td>\n      <td>5819000.0</td>\n      <td>5820000.0</td>\n    </tr>\n    <tr>\n      <th>6</th>\n      <td>4792000.0</td>\n      <td>NaN</td>\n      <td>4792000.0</td>\n    </tr>\n    <tr>\n      <th>All</th>\n      <td>4192000.0</td>\n      <td>6013000.0</td>\n      <td>4767000.0</td>\n    </tr>\n  </tbody>\n</table>\n</div>"
     },
     "execution_count": 68,
     "metadata": {},
     "output_type": "execute_result"
    }
   ],
   "source": [
    "df.pivot_table(index=\"bedrooms\", columns=\"airconditioning\", values=\"price\", aggfunc=[\"mean\"], margins=True).round(-3)"
   ],
   "metadata": {
    "collapsed": false,
    "ExecuteTime": {
     "end_time": "2024-05-28T10:54:25.413045Z",
     "start_time": "2024-05-28T10:54:25.395929Z"
    }
   },
   "id": "66a9fcac8403daad",
   "execution_count": 68
  },
  {
   "cell_type": "code",
   "outputs": [
    {
     "data": {
      "text/plain": "airconditioning\nno     0.684404\nyes    0.315596\nName: proportion, dtype: float64"
     },
     "execution_count": 72,
     "metadata": {},
     "output_type": "execute_result"
    }
   ],
   "source": [
    "df[\"airconditioning\"].value_counts(dropna=False, normalize=True)"
   ],
   "metadata": {
    "collapsed": false,
    "ExecuteTime": {
     "end_time": "2024-05-28T10:56:09.226968Z",
     "start_time": "2024-05-28T10:56:09.221954Z"
    }
   },
   "id": "faf864d068ad6422",
   "execution_count": 72
  },
  {
   "cell_type": "code",
   "outputs": [],
   "source": [
    "%%sql\n"
   ],
   "metadata": {
    "collapsed": false,
    "SqlCellData": {
     "data_source_name": "db",
     "variableName$1": "df_sql"
    }
   },
   "id": "505164fc56c85148"
  },
  {
   "cell_type": "code",
   "outputs": [
    {
     "data": {
      "text/plain": "airconditioning   no  yes\nbedrooms                 \n1                  2    0\n2                114   22\n3                193  107\n4                 55   40\n5                  7    3\n6                  2    0",
      "text/html": "<div>\n<style scoped>\n    .dataframe tbody tr th:only-of-type {\n        vertical-align: middle;\n    }\n\n    .dataframe tbody tr th {\n        vertical-align: top;\n    }\n\n    .dataframe thead th {\n        text-align: right;\n    }\n</style>\n<table border=\"1\" class=\"dataframe\">\n  <thead>\n    <tr style=\"text-align: right;\">\n      <th>airconditioning</th>\n      <th>no</th>\n      <th>yes</th>\n    </tr>\n    <tr>\n      <th>bedrooms</th>\n      <th></th>\n      <th></th>\n    </tr>\n  </thead>\n  <tbody>\n    <tr>\n      <th>1</th>\n      <td>2</td>\n      <td>0</td>\n    </tr>\n    <tr>\n      <th>2</th>\n      <td>114</td>\n      <td>22</td>\n    </tr>\n    <tr>\n      <th>3</th>\n      <td>193</td>\n      <td>107</td>\n    </tr>\n    <tr>\n      <th>4</th>\n      <td>55</td>\n      <td>40</td>\n    </tr>\n    <tr>\n      <th>5</th>\n      <td>7</td>\n      <td>3</td>\n    </tr>\n    <tr>\n      <th>6</th>\n      <td>2</td>\n      <td>0</td>\n    </tr>\n  </tbody>\n</table>\n</div>"
     },
     "execution_count": 77,
     "metadata": {},
     "output_type": "execute_result"
    }
   ],
   "source": [
    "pd.crosstab(df[\"bedrooms\"], df[\"airconditioning\"])"
   ],
   "metadata": {
    "collapsed": false,
    "ExecuteTime": {
     "end_time": "2024-05-28T10:58:42.724053Z",
     "start_time": "2024-05-28T10:58:42.718133Z"
    }
   },
   "id": "3e265e1596097612",
   "execution_count": 77
  },
  {
   "cell_type": "code",
   "outputs": [
    {
     "data": {
      "text/plain": "airconditioning     no    yes    All\nbedrooms                            \n1                  200      0    200\n2                11400   2200  13600\n3                19300  10700  30000\n4                 5500   4000   9500\n5                  700    300   1000\n6                  200      0    200\nAll              37300  17200  54500",
      "text/html": "<div>\n<style scoped>\n    .dataframe tbody tr th:only-of-type {\n        vertical-align: middle;\n    }\n\n    .dataframe tbody tr th {\n        vertical-align: top;\n    }\n\n    .dataframe thead th {\n        text-align: right;\n    }\n</style>\n<table border=\"1\" class=\"dataframe\">\n  <thead>\n    <tr style=\"text-align: right;\">\n      <th>airconditioning</th>\n      <th>no</th>\n      <th>yes</th>\n      <th>All</th>\n    </tr>\n    <tr>\n      <th>bedrooms</th>\n      <th></th>\n      <th></th>\n      <th></th>\n    </tr>\n  </thead>\n  <tbody>\n    <tr>\n      <th>1</th>\n      <td>200</td>\n      <td>0</td>\n      <td>200</td>\n    </tr>\n    <tr>\n      <th>2</th>\n      <td>11400</td>\n      <td>2200</td>\n      <td>13600</td>\n    </tr>\n    <tr>\n      <th>3</th>\n      <td>19300</td>\n      <td>10700</td>\n      <td>30000</td>\n    </tr>\n    <tr>\n      <th>4</th>\n      <td>5500</td>\n      <td>4000</td>\n      <td>9500</td>\n    </tr>\n    <tr>\n      <th>5</th>\n      <td>700</td>\n      <td>300</td>\n      <td>1000</td>\n    </tr>\n    <tr>\n      <th>6</th>\n      <td>200</td>\n      <td>0</td>\n      <td>200</td>\n    </tr>\n    <tr>\n      <th>All</th>\n      <td>37300</td>\n      <td>17200</td>\n      <td>54500</td>\n    </tr>\n  </tbody>\n</table>\n</div>"
     },
     "execution_count": 83,
     "metadata": {},
     "output_type": "execute_result"
    }
   ],
   "source": [
    "pd.crosstab(df[\"bedrooms\"], df[\"airconditioning\"], margins=True).round(3) * 100"
   ],
   "metadata": {
    "collapsed": false,
    "ExecuteTime": {
     "end_time": "2024-05-28T11:01:17.845821Z",
     "start_time": "2024-05-28T11:01:17.828400Z"
    }
   },
   "id": "493a9bf3ac8cb5ad",
   "execution_count": 83
  },
  {
   "cell_type": "code",
   "outputs": [],
   "source": [],
   "metadata": {
    "collapsed": false
   },
   "id": "89a4ba945927ccb5"
  }
 ],
 "metadata": {
  "kernelspec": {
   "display_name": "Python 3",
   "language": "python",
   "name": "python3"
  },
  "language_info": {
   "codemirror_mode": {
    "name": "ipython",
    "version": 2
   },
   "file_extension": ".py",
   "mimetype": "text/x-python",
   "name": "python",
   "nbconvert_exporter": "python",
   "pygments_lexer": "ipython2",
   "version": "2.7.6"
  }
 },
 "nbformat": 4,
 "nbformat_minor": 5
}
