{
 "cells": [
  {
   "cell_type": "code",
   "execution_count": 112,
   "id": "initial_id",
   "metadata": {
    "collapsed": true,
    "ExecuteTime": {
     "end_time": "2024-05-27T11:07:24.266002Z",
     "start_time": "2024-05-27T11:07:24.263395Z"
    }
   },
   "outputs": [],
   "source": [
    "import sqlite3\n",
    "import pandas as pd\n",
    "from scipy.stats import chisquare"
   ]
  },
  {
   "cell_type": "code",
   "outputs": [],
   "source": [
    "conn = sqlite3.connect(\"db.sqlite\")\n",
    "cursor = conn.cursor()"
   ],
   "metadata": {
    "collapsed": false,
    "ExecuteTime": {
     "end_time": "2024-05-27T11:07:24.700410Z",
     "start_time": "2024-05-27T11:07:24.698099Z"
    }
   },
   "id": "1687a61407e55ada",
   "execution_count": 113
  },
  {
   "cell_type": "code",
   "outputs": [
    {
     "data": {
      "text/plain": "1254"
     },
     "execution_count": 114,
     "metadata": {},
     "output_type": "execute_result"
    }
   ],
   "source": [
    "df = pd.read_csv(\"data.csv\")\n",
    "# Преобразуем дату для удобной работы в SQLite3\n",
    "df[\"MomentPassedUtc\"] = pd.to_datetime(df[\"MomentPassedUtc\"])\n",
    "df[\"MomentPassedUtc\"] = df[\"MomentPassedUtc\"].dt.strftime('%Y-%m-%d %H:%M:%S')\n",
    "df.to_sql(\"sessions\", conn, if_exists=\"replace\", index=False, dtype={\"MomentPassedUtc\": \"DATETIME\"})"
   ],
   "metadata": {
    "collapsed": false,
    "ExecuteTime": {
     "end_time": "2024-05-27T11:07:24.917711Z",
     "start_time": "2024-05-27T11:07:24.899548Z"
    }
   },
   "id": "d1b615d93b38b61d",
   "execution_count": 114
  },
  {
   "cell_type": "code",
   "outputs": [],
   "source": [
    "def query(sql: str) -> pd.DataFrame:\n",
    "    return pd.read_sql(sql, conn)"
   ],
   "metadata": {
    "collapsed": false,
    "ExecuteTime": {
     "end_time": "2024-05-27T11:07:25.079004Z",
     "start_time": "2024-05-27T11:07:25.077245Z"
    }
   },
   "id": "e748a49f94e01bcf",
   "execution_count": 115
  },
  {
   "cell_type": "markdown",
   "source": [
    "## Вводные данные\n",
    "__Описание данных__: \n",
    "- В данных события открытия контента пользователями приложения, где:\n",
    "    - `Id`: Идентификатор записи;\n",
    "    - `UserGuid`: Идентификатор пользователя;\n",
    "    - `SessionSysname`: Идентификатор сессии;\n",
    "    - `PsyRequestFilterSysname`: Идентификатор запроса, по которому выдается контент определенного типа;\n",
    "    - `ContentSysname`: Идентификатор контента;\n",
    "    - `ViewId`: Идентификатор просмотра (если есть);\n",
    "    - `MomentPassedUtc`: Временная метка открытия контента;\n",
    "    - `ContentType`: Тип контента;\n",
    "    - `TestResultGuid`: Идентификатор результата теста (если есть);\n",
    "    \t\n",
    "\n",
    "__Вопросы__:\n",
    "1. [x] Какая единица контента наиболее востребована пользователями, обоснуйте;\n",
    "2. [x] Контент по какому запросу наиболее востребован пользователями, обоснуйте;\n",
    "3. [x] Проверьте гипотезу о равномерности распределения запросов;\n",
    "4. [x] Если считать, что суточное время потребления контента - это разница между открытием первой (по времени вхождения) единицы контента и последней (по времени вхождения) единицы контента в пределах одного дня, то рассчитайте:\n",
    "    - [х] Среднее суточное время потребления контента для каждого пользователя;\n",
    "    - [x] Общее среднее суточное время потребления контента для всех пользователей;\n",
    "    - [x] Выведите таблицу со следующими столбцами: ID пользователя (1), среднее суточное время юзера (2), среднее суточное время общее (3), отклонение (2) от (3);\n",
    "\n",
    "Решение присылайте в гугл.док с SQL кодом и обоснованиями, таблицы в csv. Проверка гипотезы (п.3) любым доступным инструментом (код или алгоритм проверки приложить)."
   ],
   "metadata": {
    "collapsed": false
   },
   "id": "b25ee211fc36e515"
  },
  {
   "cell_type": "markdown",
   "source": [
    "## Ответы на вопросы и выводы"
   ],
   "metadata": {
    "collapsed": false
   },
   "id": "992acd5030a40ccc"
  },
  {
   "cell_type": "markdown",
   "source": [
    "__Вопрос 1: Какая единица контента наиболее востребована пользователями, обоснуйте.__\n",
    "Из 16 уникальных единиц контента наиболее востребованная (считаем по количеству `MomentPassedUtc`) – self-esteem-1. 288 открытий (22.97% от всех открытий). Анализ данных показал, что в 50% `ViewId` содержит пропуски в данных. Возможно, что это следствие какой-то ошибки в доставке данных, стоит изучить данный вопрос более детально.   \n",
    "\n",
    "__Вопрос 2: Контент по какому запросу наиболее востребован пользователями, обоснуйте.__\n",
    "Из 4 уникальных типов запросов `PsyRequestFilterSysname` (считаем по количеству `MomentPassedUtc`) самый популярный – self-esteem. 628 запросов (50.08%).\n",
    "\n",
    "__Вопрос 3: Проверьте гипотезу о равномерности распределения запросов.__\n",
    "Гипотезу о равномерности распределения запросов (`PsyRequestFilterSysname`) проверил с помощью статистического теста Chi-squared. Результаты говорят о том, что нулевую гипотезу (Н0) необходимо отклонить, данные распределены __не равномерно__.   \n",
    "\n",
    "__Вопрос 4.1: Среднее суточное время потребления контента для каждого пользователя.__\n",
    "Подробный расчет данной метрики и графики см. в соответствующем разделе ниже, а здесь хочу обратить внимание, что 49% пользователей (в рамках рассматриваемых данных) имеют среднесуточную длительность просмотра контента - 0 секунд. Кажется, с этим надо что-то делать :)  \n",
    "\n",
    "__Вопрос 4.2: Общее среднее суточное время потребления контента для всех пользователей__\n",
    "37 минут – общее среднее суточное время потребления конткнта для всех пользователей\n",
    "\n",
    "__Вопрос 4.3: Выведите таблицу со следующими столбцами: ID пользователя (1), среднее суточное время юзера (2), среднее суточное время общее (3), отклонение (2) от (3)__\n",
    "Таблица и код собирающий ее в соответствующем разделе ниже. "
   ],
   "metadata": {
    "collapsed": false
   },
   "id": "f9b12b25500023d0"
  },
  {
   "cell_type": "markdown",
   "source": [
    "## Решение"
   ],
   "metadata": {
    "collapsed": false
   },
   "id": "5a9c4c7bff2651a2"
  },
  {
   "cell_type": "markdown",
   "source": [
    "### Вопрос 1: Какая единица контента наиболее востребована пользователями, обоснуйте.\n",
    "Для ответа на данный вопрос посчитаем количество открытий `ContentSysname` по `MomentPassedUtc`. Была идея использовать `ViewId` вместо `MomentPassedUtc`, но пропуски в данных в половине случаев (~50,87%) не позволяют это сделать. "
   ],
   "metadata": {
    "collapsed": false
   },
   "id": "2ff846713b7c60cc"
  },
  {
   "cell_type": "code",
   "outputs": [
    {
     "data": {
      "text/plain": "   ContentSysname  cnt  percent\n0   self-esteem-1  288    22.97\n1   self-esteem-2  134    10.69\n2   self-esteem-3  110     8.77\n3   self-esteem-4   96     7.66\n4       anxiety-1   89     7.10\n5         coach-1   87     6.94\n6       anxiety-2   69     5.50\n7         coach-2   63     5.02\n8    Aggressive-1   62     4.94\n9         coach-3   54     4.31\n10        coach-4   51     4.07\n11      anxiety-3   47     3.75\n12      anxiety-4   33     2.63\n13   Aggressive-2   27     2.15\n14   Aggressive-3   22     1.75\n15   Aggressive-4   22     1.75",
      "text/html": "<div>\n<style scoped>\n    .dataframe tbody tr th:only-of-type {\n        vertical-align: middle;\n    }\n\n    .dataframe tbody tr th {\n        vertical-align: top;\n    }\n\n    .dataframe thead th {\n        text-align: right;\n    }\n</style>\n<table border=\"1\" class=\"dataframe\">\n  <thead>\n    <tr style=\"text-align: right;\">\n      <th></th>\n      <th>ContentSysname</th>\n      <th>cnt</th>\n      <th>percent</th>\n    </tr>\n  </thead>\n  <tbody>\n    <tr>\n      <th>0</th>\n      <td>self-esteem-1</td>\n      <td>288</td>\n      <td>22.97</td>\n    </tr>\n    <tr>\n      <th>1</th>\n      <td>self-esteem-2</td>\n      <td>134</td>\n      <td>10.69</td>\n    </tr>\n    <tr>\n      <th>2</th>\n      <td>self-esteem-3</td>\n      <td>110</td>\n      <td>8.77</td>\n    </tr>\n    <tr>\n      <th>3</th>\n      <td>self-esteem-4</td>\n      <td>96</td>\n      <td>7.66</td>\n    </tr>\n    <tr>\n      <th>4</th>\n      <td>anxiety-1</td>\n      <td>89</td>\n      <td>7.10</td>\n    </tr>\n    <tr>\n      <th>5</th>\n      <td>coach-1</td>\n      <td>87</td>\n      <td>6.94</td>\n    </tr>\n    <tr>\n      <th>6</th>\n      <td>anxiety-2</td>\n      <td>69</td>\n      <td>5.50</td>\n    </tr>\n    <tr>\n      <th>7</th>\n      <td>coach-2</td>\n      <td>63</td>\n      <td>5.02</td>\n    </tr>\n    <tr>\n      <th>8</th>\n      <td>Aggressive-1</td>\n      <td>62</td>\n      <td>4.94</td>\n    </tr>\n    <tr>\n      <th>9</th>\n      <td>coach-3</td>\n      <td>54</td>\n      <td>4.31</td>\n    </tr>\n    <tr>\n      <th>10</th>\n      <td>coach-4</td>\n      <td>51</td>\n      <td>4.07</td>\n    </tr>\n    <tr>\n      <th>11</th>\n      <td>anxiety-3</td>\n      <td>47</td>\n      <td>3.75</td>\n    </tr>\n    <tr>\n      <th>12</th>\n      <td>anxiety-4</td>\n      <td>33</td>\n      <td>2.63</td>\n    </tr>\n    <tr>\n      <th>13</th>\n      <td>Aggressive-2</td>\n      <td>27</td>\n      <td>2.15</td>\n    </tr>\n    <tr>\n      <th>14</th>\n      <td>Aggressive-3</td>\n      <td>22</td>\n      <td>1.75</td>\n    </tr>\n    <tr>\n      <th>15</th>\n      <td>Aggressive-4</td>\n      <td>22</td>\n      <td>1.75</td>\n    </tr>\n  </tbody>\n</table>\n</div>"
     },
     "execution_count": 116,
     "metadata": {},
     "output_type": "execute_result"
    }
   ],
   "source": [
    "sql = \"\"\"\n",
    "SELECT\n",
    "    ContentSysname, \n",
    "    COUNT(MomentPassedUtc) AS cnt,\n",
    "    ROUND(COUNT(MomentPassedUtc) * 1.0 / sum(Count(MomentPassedUtc)) OVER () * 100, 2) AS percent\n",
    "FROM sessions\n",
    "GROUP BY ContentSysname\n",
    "ORDER BY cnt DESC;\n",
    "\"\"\"\n",
    "query(sql)"
   ],
   "metadata": {
    "collapsed": false,
    "ExecuteTime": {
     "end_time": "2024-05-27T11:07:32.058959Z",
     "start_time": "2024-05-27T11:07:32.053720Z"
    }
   },
   "id": "4ce305e55bdaf136",
   "execution_count": 116
  },
  {
   "cell_type": "markdown",
   "source": [
    "### Вопрос 2: Контент по какому запросу наиболее востребован пользователями, обоснуйте."
   ],
   "metadata": {
    "collapsed": false
   },
   "id": "aa2b2f4f0e1914d8"
  },
  {
   "cell_type": "code",
   "outputs": [
    {
     "data": {
      "text/plain": "  PsyRequestFilterSysname  cnt  percent\n0             self-esteem  628    50.08\n1                   coach  255    20.33\n2                 anxiety  238    18.98\n3              Aggressive  133    10.61",
      "text/html": "<div>\n<style scoped>\n    .dataframe tbody tr th:only-of-type {\n        vertical-align: middle;\n    }\n\n    .dataframe tbody tr th {\n        vertical-align: top;\n    }\n\n    .dataframe thead th {\n        text-align: right;\n    }\n</style>\n<table border=\"1\" class=\"dataframe\">\n  <thead>\n    <tr style=\"text-align: right;\">\n      <th></th>\n      <th>PsyRequestFilterSysname</th>\n      <th>cnt</th>\n      <th>percent</th>\n    </tr>\n  </thead>\n  <tbody>\n    <tr>\n      <th>0</th>\n      <td>self-esteem</td>\n      <td>628</td>\n      <td>50.08</td>\n    </tr>\n    <tr>\n      <th>1</th>\n      <td>coach</td>\n      <td>255</td>\n      <td>20.33</td>\n    </tr>\n    <tr>\n      <th>2</th>\n      <td>anxiety</td>\n      <td>238</td>\n      <td>18.98</td>\n    </tr>\n    <tr>\n      <th>3</th>\n      <td>Aggressive</td>\n      <td>133</td>\n      <td>10.61</td>\n    </tr>\n  </tbody>\n</table>\n</div>"
     },
     "execution_count": 117,
     "metadata": {},
     "output_type": "execute_result"
    }
   ],
   "source": [
    "sql = \"\"\"\n",
    "SELECT\n",
    "    PsyRequestFilterSysname, \n",
    "    COUNT(MomentPassedUtc) AS cnt,\n",
    "    ROUND(COUNT(MomentPassedUtc) * 1.0 / SUM(COUNT(MomentPassedUtc)) OVER () * 100, 2) AS percent\n",
    "FROM sessions\n",
    "GROUP BY PsyRequestFilterSysname\n",
    "ORDER BY cnt DESC;\n",
    "\"\"\"\n",
    "query(sql)"
   ],
   "metadata": {
    "collapsed": false,
    "ExecuteTime": {
     "end_time": "2024-05-27T11:07:33.055702Z",
     "start_time": "2024-05-27T11:07:33.049071Z"
    }
   },
   "id": "fa39b2781dd5fea5",
   "execution_count": 117
  },
  {
   "cell_type": "markdown",
   "source": [
    "### Вопрос 3: Проверьте гипотезу о равномерности распределения запросов\n",
    "Для проверки равномерности распределения запросов (`PsyRequestFilterSysname`) используем статистический тест Chi-squared:\n",
    "- В SQL-запросе подготовим данные и получим данные по категориям запросов: observed_freq expected_freq;\n",
    "- В Python, с помощью библиотеки SciPy проведем сам тест;"
   ],
   "metadata": {
    "collapsed": false
   },
   "id": "c82865fe1178c64b"
  },
  {
   "cell_type": "code",
   "outputs": [
    {
     "data": {
      "text/plain": "  PsyRequestFilterSysname  observed_freq  expected_freq\n0             self-esteem            628          313.5\n1                   coach            255          313.5\n2                 anxiety            238          313.5\n3              Aggressive            133          313.5",
      "text/html": "<div>\n<style scoped>\n    .dataframe tbody tr th:only-of-type {\n        vertical-align: middle;\n    }\n\n    .dataframe tbody tr th {\n        vertical-align: top;\n    }\n\n    .dataframe thead th {\n        text-align: right;\n    }\n</style>\n<table border=\"1\" class=\"dataframe\">\n  <thead>\n    <tr style=\"text-align: right;\">\n      <th></th>\n      <th>PsyRequestFilterSysname</th>\n      <th>observed_freq</th>\n      <th>expected_freq</th>\n    </tr>\n  </thead>\n  <tbody>\n    <tr>\n      <th>0</th>\n      <td>self-esteem</td>\n      <td>628</td>\n      <td>313.5</td>\n    </tr>\n    <tr>\n      <th>1</th>\n      <td>coach</td>\n      <td>255</td>\n      <td>313.5</td>\n    </tr>\n    <tr>\n      <th>2</th>\n      <td>anxiety</td>\n      <td>238</td>\n      <td>313.5</td>\n    </tr>\n    <tr>\n      <th>3</th>\n      <td>Aggressive</td>\n      <td>133</td>\n      <td>313.5</td>\n    </tr>\n  </tbody>\n</table>\n</div>"
     },
     "execution_count": 118,
     "metadata": {},
     "output_type": "execute_result"
    }
   ],
   "source": [
    "sql = \"\"\"\n",
    "SELECT PsyRequestFilterSysname,\n",
    "       COUNT(MomentPassedUtc) AS observed_freq,\n",
    "       (1.0 * SUM(COUNT(MomentPassedUtc)) OVER ()\n",
    "            / SUM(COUNT(DISTINCT PsyRequestFilterSysname)) OVER ()\n",
    "        ) as expected_freq\n",
    "FROM sessions\n",
    "GROUP BY PsyRequestFilterSysname\n",
    "ORDER BY observed_freq DESC;\n",
    "\"\"\"\n",
    "data = query(sql)\n",
    "data"
   ],
   "metadata": {
    "collapsed": false,
    "ExecuteTime": {
     "end_time": "2024-05-27T11:07:33.821897Z",
     "start_time": "2024-05-27T11:07:33.814959Z"
    }
   },
   "id": "6b68bc704827611b",
   "execution_count": 118
  },
  {
   "cell_type": "code",
   "outputs": [],
   "source": [
    "chi2_stat, p_value = chisquare(data[\"observed_freq\"], f_exp=data[\"expected_freq\"])"
   ],
   "metadata": {
    "collapsed": false,
    "ExecuteTime": {
     "end_time": "2024-05-27T11:07:34.212840Z",
     "start_time": "2024-05-27T11:07:34.210720Z"
    }
   },
   "id": "1bd21009d10256b0",
   "execution_count": 119
  },
  {
   "cell_type": "code",
   "outputs": [
    {
     "name": "stdout",
     "output_type": "stream",
     "text": [
      "Chi-squared statistic: 448.5263157894737\n",
      "P-value: 6.80059810854733e-97\n",
      "Отклоняем нулевую гипотезу: данные распределены не равномерно\n"
     ]
    }
   ],
   "source": [
    "print(f\"Chi-squared statistic: {chi2_stat}\")\n",
    "print(f\"P-value: {p_value}\")\n",
    "alpha = 0.05\n",
    "if p_value < alpha:\n",
    "    print(\"Отклоняем нулевую гипотезу: данные распределены не равномерно\")\n",
    "else:\n",
    "    print(\"Не удается отклонить нулевую гипотезу: данные распределены равномерно\")"
   ],
   "metadata": {
    "collapsed": false,
    "ExecuteTime": {
     "end_time": "2024-05-27T11:07:34.511261Z",
     "start_time": "2024-05-27T11:07:34.508808Z"
    }
   },
   "id": "d55c4f357604f99b",
   "execution_count": 120
  },
  {
   "cell_type": "markdown",
   "source": [
    "### Вопрос 4.1: Среднее суточное время потребления контента для каждого пользователя."
   ],
   "metadata": {
    "collapsed": false
   },
   "id": "37c89e75c0fd35b2"
  },
  {
   "cell_type": "code",
   "outputs": [
    {
     "data": {
      "text/plain": "                                 UserGuid  avg_daily_view_minutes\n0    E69CB268-3EE8-47CF-BAC1-90C109ABCA61                   566.0\n1    F544B3E7-88E1-4113-ACEC-56E331BBA568                   299.0\n2    F4101711-52B6-434A-8FD6-0C2838A4959D                   289.0\n3    9DC2E544-01EB-44E3-8433-663D99F3F038                   241.0\n4    9F1EDCC1-3F28-4074-BA45-773A77CED9BB                   184.0\n..                                    ...                     ...\n221  0A0DA621-F429-4322-A449-84BA8BAC503A                     0.0\n222  07FAAFCD-12F8-4757-8B06-7811AF7FDA87                     0.0\n223  069C5F69-94EB-4690-86A2-76854D11CC9C                     0.0\n224  0462D50D-DBAD-4F09-9383-2E2479734B98                     0.0\n225  042B9573-2CC2-4CFD-A02A-AF30E9AF6F11                     0.0\n\n[226 rows x 2 columns]",
      "text/html": "<div>\n<style scoped>\n    .dataframe tbody tr th:only-of-type {\n        vertical-align: middle;\n    }\n\n    .dataframe tbody tr th {\n        vertical-align: top;\n    }\n\n    .dataframe thead th {\n        text-align: right;\n    }\n</style>\n<table border=\"1\" class=\"dataframe\">\n  <thead>\n    <tr style=\"text-align: right;\">\n      <th></th>\n      <th>UserGuid</th>\n      <th>avg_daily_view_minutes</th>\n    </tr>\n  </thead>\n  <tbody>\n    <tr>\n      <th>0</th>\n      <td>E69CB268-3EE8-47CF-BAC1-90C109ABCA61</td>\n      <td>566.0</td>\n    </tr>\n    <tr>\n      <th>1</th>\n      <td>F544B3E7-88E1-4113-ACEC-56E331BBA568</td>\n      <td>299.0</td>\n    </tr>\n    <tr>\n      <th>2</th>\n      <td>F4101711-52B6-434A-8FD6-0C2838A4959D</td>\n      <td>289.0</td>\n    </tr>\n    <tr>\n      <th>3</th>\n      <td>9DC2E544-01EB-44E3-8433-663D99F3F038</td>\n      <td>241.0</td>\n    </tr>\n    <tr>\n      <th>4</th>\n      <td>9F1EDCC1-3F28-4074-BA45-773A77CED9BB</td>\n      <td>184.0</td>\n    </tr>\n    <tr>\n      <th>...</th>\n      <td>...</td>\n      <td>...</td>\n    </tr>\n    <tr>\n      <th>221</th>\n      <td>0A0DA621-F429-4322-A449-84BA8BAC503A</td>\n      <td>0.0</td>\n    </tr>\n    <tr>\n      <th>222</th>\n      <td>07FAAFCD-12F8-4757-8B06-7811AF7FDA87</td>\n      <td>0.0</td>\n    </tr>\n    <tr>\n      <th>223</th>\n      <td>069C5F69-94EB-4690-86A2-76854D11CC9C</td>\n      <td>0.0</td>\n    </tr>\n    <tr>\n      <th>224</th>\n      <td>0462D50D-DBAD-4F09-9383-2E2479734B98</td>\n      <td>0.0</td>\n    </tr>\n    <tr>\n      <th>225</th>\n      <td>042B9573-2CC2-4CFD-A02A-AF30E9AF6F11</td>\n      <td>0.0</td>\n    </tr>\n  </tbody>\n</table>\n<p>226 rows × 2 columns</p>\n</div>"
     },
     "execution_count": 121,
     "metadata": {},
     "output_type": "execute_result"
    }
   ],
   "source": [
    "sql = \"\"\"\n",
    "WITH\n",
    "    daily_usage AS (\n",
    "        SELECT\n",
    "            UserGuid,\n",
    "            DATE(MomentPassedUtc) AS date,\n",
    "            MIN(MomentPassedUtc) AS first_view,\n",
    "            MAX(MomentPassedUtc) AS last_view,\n",
    "            TIMEDIFF(MAX(MomentPassedUtc), MIN(MomentPassedUtc)) as day_view,\n",
    "            ROUND((JULIANDAY(MAX(MomentPassedUtc)) - JULIANDAY(MIN(MomentPassedUtc))) * 86400) AS day_view_seconds\n",
    "        FROM sessions\n",
    "        GROUP BY UserGuid, date\n",
    "        ORDER BY UserGuid, date)\n",
    "\n",
    "SELECT\n",
    "    UserGuid, ROUND((sum(day_view_seconds) / count(date)) / 60)  as avg_daily_view_minutes\n",
    "FROM daily_usage\n",
    "GROUP BY UserGuid\n",
    "ORDER BY avg_daily_view_minutes DESC;\n",
    "\"\"\"\n",
    "data = query(sql)\n",
    "data"
   ],
   "metadata": {
    "collapsed": false,
    "ExecuteTime": {
     "end_time": "2024-05-27T11:07:35.432927Z",
     "start_time": "2024-05-27T11:07:35.427203Z"
    }
   },
   "id": "ea5068bd80024f39",
   "execution_count": 121
  },
  {
   "cell_type": "code",
   "outputs": [
    {
     "data": {
      "text/plain": "<Figure size 1000x300 with 1 Axes>",
      "image/png": "[encoded data removed]"
     },
     "metadata": {},
     "output_type": "display_data"
    }
   ],
   "source": [
    "data[\"avg_daily_view_minutes\"].plot(kind=\"hist\", figsize=(10, 3));"
   ],
   "metadata": {
    "collapsed": false,
    "ExecuteTime": {
     "end_time": "2024-05-27T11:14:16.378349Z",
     "start_time": "2024-05-27T11:14:16.327023Z"
    }
   },
   "id": "464cea347e2772fc",
   "execution_count": 126
  },
  {
   "cell_type": "code",
   "outputs": [
    {
     "data": {
      "text/plain": "avg_daily_view_minutes\n0.0      0.491150\n1.0      0.101770\n2.0      0.039823\n4.0      0.039823\n3.0      0.026549\n5.0      0.026549\n8.0      0.013274\n53.0     0.008850\n9.0      0.008850\n12.0     0.008850\n13.0     0.008850\n14.0     0.008850\n18.0     0.008850\n23.0     0.008850\n25.0     0.008850\n26.0     0.008850\n43.0     0.008850\n98.0     0.004425\n10.0     0.004425\n17.0     0.004425\n16.0     0.004425\n15.0     0.004425\n123.0    0.004425\n126.0    0.004425\n143.0    0.004425\n11.0     0.004425\n147.0    0.004425\n113.0    0.004425\n167.0    0.004425\n7.0      0.004425\n176.0    0.004425\n179.0    0.004425\n184.0    0.004425\n241.0    0.004425\n289.0    0.004425\n119.0    0.004425\n110.0    0.004425\n97.0     0.004425\n51.0     0.004425\n89.0     0.004425\n77.0     0.004425\n73.0     0.004425\n69.0     0.004425\n64.0     0.004425\n54.0     0.004425\n101.0    0.004425\n48.0     0.004425\n104.0    0.004425\n299.0    0.004425\n40.0     0.004425\n39.0     0.004425\n38.0     0.004425\n37.0     0.004425\n36.0     0.004425\n28.0     0.004425\n566.0    0.004425\nName: proportion, dtype: float64"
     },
     "execution_count": 123,
     "metadata": {},
     "output_type": "execute_result"
    }
   ],
   "source": [
    "data[\"avg_daily_view_minutes\"].value_counts(normalize=True)"
   ],
   "metadata": {
    "collapsed": false,
    "ExecuteTime": {
     "end_time": "2024-05-27T11:07:36.788782Z",
     "start_time": "2024-05-27T11:07:36.783974Z"
    }
   },
   "id": "f6bf0b7775f041f3",
   "execution_count": 123
  },
  {
   "cell_type": "markdown",
   "source": [
    "### Вопрос 4.2: Общее среднее суточное время потребления контента для всех пользователей."
   ],
   "metadata": {
    "collapsed": false
   },
   "id": "3294032582618420"
  },
  {
   "cell_type": "code",
   "outputs": [
    {
     "data": {
      "text/plain": "   avg_total_minutes\n0               37.0",
      "text/html": "<div>\n<style scoped>\n    .dataframe tbody tr th:only-of-type {\n        vertical-align: middle;\n    }\n\n    .dataframe tbody tr th {\n        vertical-align: top;\n    }\n\n    .dataframe thead th {\n        text-align: right;\n    }\n</style>\n<table border=\"1\" class=\"dataframe\">\n  <thead>\n    <tr style=\"text-align: right;\">\n      <th></th>\n      <th>avg_total_minutes</th>\n    </tr>\n  </thead>\n  <tbody>\n    <tr>\n      <th>0</th>\n      <td>37.0</td>\n    </tr>\n  </tbody>\n</table>\n</div>"
     },
     "execution_count": 124,
     "metadata": {},
     "output_type": "execute_result"
    }
   ],
   "source": [
    "sql = \"\"\"\n",
    "WITH\n",
    "    daily_usage AS (\n",
    "        SELECT\n",
    "            UserGuid,\n",
    "            DATE(MomentPassedUtc) AS date,\n",
    "            MIN(MomentPassedUtc) AS first_view,\n",
    "            MAX(MomentPassedUtc) AS last_view,\n",
    "            TIMEDIFF(MAX(MomentPassedUtc), MIN(MomentPassedUtc)) AS day_view,\n",
    "            ROUND((JULIANDAY(MAX(MomentPassedUtc)) - JULIANDAY(MIN(MomentPassedUtc))) * 86400) AS day_view_seconds\n",
    "        FROM sessions\n",
    "        GROUP BY UserGuid, date\n",
    "        ORDER BY UserGuid, date\n",
    "    )\n",
    "\n",
    "SELECT\n",
    "    ROUND(sum(day_view_seconds) / count(UserGuid) / 60) AS avg_total_minutes\n",
    "FROM daily_usage;\n",
    "\n",
    "\"\"\"\n",
    "query(sql)"
   ],
   "metadata": {
    "collapsed": false,
    "ExecuteTime": {
     "end_time": "2024-05-27T11:07:37.477637Z",
     "start_time": "2024-05-27T11:07:37.473466Z"
    }
   },
   "id": "1401f8993767c5ef",
   "execution_count": 124
  },
  {
   "cell_type": "markdown",
   "source": [
    "### Вопрос 4.3: Выведите таблицу со следующими столбцами: ID пользователя (1), среднее суточное время юзера (2), среднее суточное время общее (3), отклонение (2) от (3)."
   ],
   "metadata": {
    "collapsed": false
   },
   "id": "cc46d1843c86e4e7"
  },
  {
   "cell_type": "code",
   "outputs": [
    {
     "data": {
      "text/plain": "                                 UserGuid  avg_daily_minutes_by_user  \\\n0    E69CB268-3EE8-47CF-BAC1-90C109ABCA61                      566.0   \n1    F544B3E7-88E1-4113-ACEC-56E331BBA568                      299.0   \n2    F4101711-52B6-434A-8FD6-0C2838A4959D                      289.0   \n3    9DC2E544-01EB-44E3-8433-663D99F3F038                      241.0   \n4    9F1EDCC1-3F28-4074-BA45-773A77CED9BB                      184.0   \n..                                    ...                        ...   \n221  0A0DA621-F429-4322-A449-84BA8BAC503A                        0.0   \n222  07FAAFCD-12F8-4757-8B06-7811AF7FDA87                        0.0   \n223  069C5F69-94EB-4690-86A2-76854D11CC9C                        0.0   \n224  0462D50D-DBAD-4F09-9383-2E2479734B98                        0.0   \n225  042B9573-2CC2-4CFD-A02A-AF30E9AF6F11                        0.0   \n\n     avg_daily_minutes_by_total  deviation  \n0                          37.0      529.0  \n1                          37.0      262.0  \n2                          37.0      252.0  \n3                          37.0      204.0  \n4                          37.0      147.0  \n..                          ...        ...  \n221                        37.0      -37.0  \n222                        37.0      -37.0  \n223                        37.0      -37.0  \n224                        37.0      -37.0  \n225                        37.0      -37.0  \n\n[226 rows x 4 columns]",
      "text/html": "<div>\n<style scoped>\n    .dataframe tbody tr th:only-of-type {\n        vertical-align: middle;\n    }\n\n    .dataframe tbody tr th {\n        vertical-align: top;\n    }\n\n    .dataframe thead th {\n        text-align: right;\n    }\n</style>\n<table border=\"1\" class=\"dataframe\">\n  <thead>\n    <tr style=\"text-align: right;\">\n      <th></th>\n      <th>UserGuid</th>\n      <th>avg_daily_minutes_by_user</th>\n      <th>avg_daily_minutes_by_total</th>\n      <th>deviation</th>\n    </tr>\n  </thead>\n  <tbody>\n    <tr>\n      <th>0</th>\n      <td>E69CB268-3EE8-47CF-BAC1-90C109ABCA61</td>\n      <td>566.0</td>\n      <td>37.0</td>\n      <td>529.0</td>\n    </tr>\n    <tr>\n      <th>1</th>\n      <td>F544B3E7-88E1-4113-ACEC-56E331BBA568</td>\n      <td>299.0</td>\n      <td>37.0</td>\n      <td>262.0</td>\n    </tr>\n    <tr>\n      <th>2</th>\n      <td>F4101711-52B6-434A-8FD6-0C2838A4959D</td>\n      <td>289.0</td>\n      <td>37.0</td>\n      <td>252.0</td>\n    </tr>\n    <tr>\n      <th>3</th>\n      <td>9DC2E544-01EB-44E3-8433-663D99F3F038</td>\n      <td>241.0</td>\n      <td>37.0</td>\n      <td>204.0</td>\n    </tr>\n    <tr>\n      <th>4</th>\n      <td>9F1EDCC1-3F28-4074-BA45-773A77CED9BB</td>\n      <td>184.0</td>\n      <td>37.0</td>\n      <td>147.0</td>\n    </tr>\n    <tr>\n      <th>...</th>\n      <td>...</td>\n      <td>...</td>\n      <td>...</td>\n      <td>...</td>\n    </tr>\n    <tr>\n      <th>221</th>\n      <td>0A0DA621-F429-4322-A449-84BA8BAC503A</td>\n      <td>0.0</td>\n      <td>37.0</td>\n      <td>-37.0</td>\n    </tr>\n    <tr>\n      <th>222</th>\n      <td>07FAAFCD-12F8-4757-8B06-7811AF7FDA87</td>\n      <td>0.0</td>\n      <td>37.0</td>\n      <td>-37.0</td>\n    </tr>\n    <tr>\n      <th>223</th>\n      <td>069C5F69-94EB-4690-86A2-76854D11CC9C</td>\n      <td>0.0</td>\n      <td>37.0</td>\n      <td>-37.0</td>\n    </tr>\n    <tr>\n      <th>224</th>\n      <td>0462D50D-DBAD-4F09-9383-2E2479734B98</td>\n      <td>0.0</td>\n      <td>37.0</td>\n      <td>-37.0</td>\n    </tr>\n    <tr>\n      <th>225</th>\n      <td>042B9573-2CC2-4CFD-A02A-AF30E9AF6F11</td>\n      <td>0.0</td>\n      <td>37.0</td>\n      <td>-37.0</td>\n    </tr>\n  </tbody>\n</table>\n<p>226 rows × 4 columns</p>\n</div>"
     },
     "execution_count": 125,
     "metadata": {},
     "output_type": "execute_result"
    }
   ],
   "source": [
    "sql = \"\"\"\n",
    "WITH\n",
    "    daily_usage AS (\n",
    "        SELECT\n",
    "            UserGuid,\n",
    "            DATE(MomentPassedUtc) AS date,\n",
    "            MIN(MomentPassedUtc) AS first_view,\n",
    "            MAX(MomentPassedUtc) AS last_view,\n",
    "            TIMEDIFF(MAX(MomentPassedUtc), MIN(MomentPassedUtc)) AS day_view,\n",
    "            ROUND((JULIANDAY(MAX(MomentPassedUtc)) - JULIANDAY(MIN(MomentPassedUtc))) * 86400) AS day_view_seconds\n",
    "        FROM sessions\n",
    "        GROUP BY UserGuid, date\n",
    "        ORDER BY UserGuid, date\n",
    "    ),\n",
    "\n",
    "    users_avg AS (\n",
    "        SELECT\n",
    "            UserGuid, ROUND((sum(day_view_seconds) / count(date)) / 60)  AS avg_daily_view_minutes\n",
    "        FROM daily_usage\n",
    "        GROUP BY UserGuid\n",
    "        ORDER BY avg_daily_view_minutes DESC\n",
    "    ),\n",
    "\n",
    "    total_avg AS (\n",
    "        SELECT\n",
    "            ROUND(sum(day_view_seconds) / count(UserGuid) / 60) AS avg_total_minutes\n",
    "        FROM daily_usage\n",
    "    )\n",
    "\n",
    "SELECT\n",
    "    u.UserGuid,\n",
    "    u.avg_daily_view_minutes AS avg_daily_minutes_by_user,\n",
    "    t.avg_total_minutes AS avg_daily_minutes_by_total,\n",
    "    u.avg_daily_view_minutes - t.avg_total_minutes AS deviation\n",
    "FROM users_avg as u\n",
    "LEFT JOIN total_avg as t\n",
    "\"\"\"\n",
    "query(sql)"
   ],
   "metadata": {
    "collapsed": false,
    "ExecuteTime": {
     "end_time": "2024-05-27T11:07:38.379801Z",
     "start_time": "2024-05-27T11:07:38.373112Z"
    }
   },
   "id": "b997d6ec0ba3a59f",
   "execution_count": 125
  }
 ],
 "metadata": {
  "kernelspec": {
   "display_name": "Python 3",
   "language": "python",
   "name": "python3"
  },
  "language_info": {
   "codemirror_mode": {
    "name": "ipython",
    "version": 2
   },
   "file_extension": ".py",
   "mimetype": "text/x-python",
   "name": "python",
   "nbconvert_exporter": "python",
   "pygments_lexer": "ipython2",
   "version": "2.7.6"
  }
 },
 "nbformat": 4,
 "nbformat_minor": 5
}
