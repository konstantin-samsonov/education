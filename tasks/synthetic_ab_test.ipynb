{
 "cells": [
  {
   "cell_type": "markdown",
   "source": [
    "## Задача\n",
    "- [x] Сгенерировать 10 000 пользователей с помощью UUID4;\n",
    "- [x] С вероятностью в 10% назначить пользователям факт совершения некоторого действия;\n",
    "- [x] Распределить пользователей 10 000 раз по контрольной и тестовой группе. Для каждой итерации новая соль;\n",
    "- [x] Для каждой итерации определить значимость отличия конверсии в исходное действие с p_value = 0.05;\n",
    "- [x] Построить распределение полученных 10 000 p_value на графике. Какое распределение получилось? \n",
    "- [x] Проверить соответствие полученного распределения с равномерным с помощью теста Колмогорова-Смирнова;\n",
    "- [x] Сделать выводы;\n",
    " "
   ],
   "metadata": {
    "collapsed": false
   },
   "id": "98e97dd3031ca914"
  },
  {
   "cell_type": "markdown",
   "source": [
    "## Импорты и функции"
   ],
   "metadata": {
    "collapsed": false
   },
   "id": "6561147ff817c6ef"
  },
  {
   "cell_type": "code",
   "outputs": [],
   "source": [
    "import uuid\n",
    "import hashlib\n",
    "import warnings\n",
    "import sqlite3\n",
    "import numpy as np\n",
    "import pandas as pd\n",
    "from statsmodels.stats.proportion import proportions_ztest\n",
    "from scipy import stats\n",
    "from tqdm.auto import tqdm"
   ],
   "metadata": {
    "collapsed": false,
    "ExecuteTime": {
     "end_time": "2024-06-07T14:09:50.808573Z",
     "start_time": "2024-06-07T14:09:50.256028Z"
    }
   },
   "id": "72bfe7111f1f4570",
   "execution_count": 1
  },
  {
   "cell_type": "code",
   "outputs": [],
   "source": [
    "warnings.filterwarnings('ignore')\n",
    "connect = sqlite3.connect('db.sqlite')"
   ],
   "metadata": {
    "collapsed": false,
    "ExecuteTime": {
     "end_time": "2024-06-07T14:09:50.811863Z",
     "start_time": "2024-06-07T14:09:50.809774Z"
    }
   },
   "id": "5fa7eb73ddb33c8a",
   "execution_count": 2
  },
  {
   "cell_type": "code",
   "outputs": [],
   "source": [
    "def generate_users_with_actions(num_users: int = None, action_probability: int = None) -> pd.DataFrame:\n",
    "    \"\"\"Генерирует популяцию с заданным количеством пользователей и заданной вероятностью конверсии в целевое действие\"\"\"\n",
    "\n",
    "    np.random.seed(42)\n",
    "\n",
    "    users = [str(uuid.uuid4()) for _ in range(num_users)]\n",
    "    actions = np.random.binomial(1, action_probability, size=num_users)\n",
    "    data = {}\n",
    "    for key, val in zip(users, actions):\n",
    "        data[key] = val\n",
    "\n",
    "    result = pd.DataFrame(data=list(data.items()), columns=['user', 'action'])\n",
    "\n",
    "    return result"
   ],
   "metadata": {
    "collapsed": false,
    "ExecuteTime": {
     "end_time": "2024-06-07T14:09:50.815093Z",
     "start_time": "2024-06-07T14:09:50.812500Z"
    }
   },
   "id": "aeeb934592f3fd92",
   "execution_count": 3
  },
  {
   "cell_type": "code",
   "outputs": [],
   "source": [
    "def split_users(user_id, salt: str) -> int:\n",
    "    \"\"\"Распределяет пользователей по 2м группам АБ-теста\"\"\"\n",
    "\n",
    "    hash_object = hashlib.md5((user_id + salt).encode())\n",
    "    hash_hex = hash_object.hexdigest()\n",
    "    hash_int = int(hash_hex, 16)\n",
    "\n",
    "    group = ''\n",
    "    if hash_int % 100 <= 50:\n",
    "        group = 'control'\n",
    "    else:\n",
    "        group = 'test'\n",
    "\n",
    "    return group"
   ],
   "metadata": {
    "collapsed": false,
    "ExecuteTime": {
     "end_time": "2024-06-07T14:09:50.817964Z",
     "start_time": "2024-06-07T14:09:50.815890Z"
    }
   },
   "id": "e056431af7bf79c4",
   "execution_count": 4
  },
  {
   "cell_type": "code",
   "outputs": [],
   "source": [
    "def create_and_estimate_ab(data: pd.DataFrame, salt: int, alpha: float) -> pd.DataFrame:\n",
    "    \"\"\"Проводит АБ и возвращает результаты\"\"\"\n",
    "\n",
    "    data = data.copy()\n",
    "    data['group'] = data.apply(lambda row: split_users(user_id=row['user'], salt=str(salt)), axis=1)\n",
    "    data = data.pivot_table(index=['group'], columns='action', values='user', aggfunc='count',\n",
    "                            margins=True, margins_name='total')\n",
    "\n",
    "    separation = {\n",
    "        'control_successes': data.loc['control', 1],\n",
    "        'control_total': int(data.loc['control', 'total']),\n",
    "        'control_cr': data.loc['control', 1] / data.loc['control', 'total'],\n",
    "        'test_successes': data.loc['test', 1],\n",
    "        'test_total': data.loc['test', 'total'],\n",
    "        'test_cr': data.loc['test', 1] / data.loc['test', 'total'],\n",
    "    }\n",
    "\n",
    "    z_score, p_value = proportions_ztest(\n",
    "        count=[separation['control_successes'], separation['test_successes']],\n",
    "        nobs=[separation['control_total'], separation['test_total']],\n",
    "        alternative='two-sided')\n",
    "\n",
    "    if p_value < alpha:\n",
    "        h_0 = 'reject'\n",
    "    else:\n",
    "        h_0 = 'not_reject'\n",
    "\n",
    "    results_ab = {\n",
    "        'h_0': h_0,\n",
    "        'p_value': p_value,\n",
    "        'z_score': z_score,\n",
    "        'control_cr': separation['control_cr'],\n",
    "        'test_cr': separation['test_cr'],\n",
    "        'control_total': separation['control_total'],\n",
    "        'control_successes': separation['control_successes'],\n",
    "        'test_total': separation['test_total'],\n",
    "        'test_successes': separation['test_successes']\n",
    "    }\n",
    "\n",
    "    df_row = pd.DataFrame(results_ab, index=[0])\n",
    "\n",
    "    del data\n",
    "\n",
    "    return df_row"
   ],
   "metadata": {
    "collapsed": false,
    "ExecuteTime": {
     "end_time": "2024-06-07T14:09:50.822652Z",
     "start_time": "2024-06-07T14:09:50.819197Z"
    }
   },
   "id": "1eb8b1fa11fea064",
   "execution_count": 5
  },
  {
   "cell_type": "code",
   "outputs": [],
   "source": [
    "def get_data(type: str, save_to_db: bool, num_users, num_experiments: int, action_probability, alpha: float) -> pd.DataFrame:\n",
    "    \"\"\"    \n",
    "    :param type: generate or load\n",
    "    \"\"\"\n",
    "\n",
    "    df = pd.DataFrame(\n",
    "        columns=['h_0', 'p_value', 'z_score', 'control_cr', 'test_cr', 'control_total',\n",
    "                 'control_successes', 'test_total', 'test_successes'])\n",
    "\n",
    "    population = generate_users_with_actions(num_users=num_users, action_probability=action_probability)\n",
    "\n",
    "    if type == 'generate':\n",
    "        for i in tqdm(range(num_experiments)):\n",
    "            exp = create_and_estimate_ab(data=population, salt=i, alpha=alpha)\n",
    "            df = pd.concat([df, exp], ignore_index=True)\n",
    "\n",
    "        # Мини-фикс на тип данных, чтобы в итоговом DF инты были интами \n",
    "        df[['control_total', 'control_successes', 'test_total', 'test_successes']] = df[\n",
    "            ['control_total', 'control_successes', 'test_total', 'test_successes']].astype(int)\n",
    "    \n",
    "        if save_to_db:\n",
    "            df.to_sql(name='intensive_syntetic_ab_test', con=connect, if_exists='replace')\n",
    "\n",
    "    elif type == 'load':\n",
    "        df = pd.read_sql('SELECT * FROM intensive_syntetic_ab_test', con=connect)\n",
    "\n",
    "    return df"
   ],
   "metadata": {
    "collapsed": false,
    "ExecuteTime": {
     "end_time": "2024-06-07T14:09:51.081451Z",
     "start_time": "2024-06-07T14:09:51.077896Z"
    }
   },
   "id": "85c3d5be333b3a99",
   "execution_count": 6
  },
  {
   "cell_type": "code",
   "outputs": [],
   "source": [],
   "metadata": {
    "collapsed": false,
    "ExecuteTime": {
     "end_time": "2024-06-07T14:25:04.436398Z",
     "start_time": "2024-06-07T14:25:04.434611Z"
    }
   },
   "id": "2e56b324ac969658",
   "execution_count": 15
  },
  {
   "cell_type": "markdown",
   "source": [
    "## Анализируем данные"
   ],
   "metadata": {
    "collapsed": false
   },
   "id": "30cc3afbb933ecf3"
  },
  {
   "cell_type": "code",
   "outputs": [],
   "source": [
    "df = get_data(type='load', save_to_db=False, num_users=10_000, num_experiments=10_000, action_probability=0.1, alpha=0.50)"
   ],
   "metadata": {
    "collapsed": false,
    "ExecuteTime": {
     "end_time": "2024-06-07T14:15:40.716640Z",
     "start_time": "2024-06-07T14:15:40.661382Z"
    }
   },
   "id": "89f84d1b2499d8fe",
   "execution_count": 10
  },
  {
   "cell_type": "code",
   "outputs": [
    {
     "data": {
      "text/plain": "      index         h_0   p_value   z_score  control_cr   test_cr  \\\n447     447  not_reject  0.709107 -0.373055    0.095012  0.097211   \n3381   3381  not_reject  0.472248 -0.718826    0.094047  0.098286   \n1478   1478  not_reject  0.764341 -0.299785    0.095238  0.097006   \n2149   2149  not_reject  0.521836 -0.640518    0.094247  0.098023   \n4719   4719  not_reject  0.468240 -0.725346    0.094007  0.098284   \n\n      control_total  control_successes  test_total  test_successes  \n447            5052                480        4948             481  \n3381           5157                485        4843             476  \n1478           5124                488        4876             473  \n2149           5093                480        4907             481  \n4719           5106                480        4894             481  ",
      "text/html": "<div>\n<style scoped>\n    .dataframe tbody tr th:only-of-type {\n        vertical-align: middle;\n    }\n\n    .dataframe tbody tr th {\n        vertical-align: top;\n    }\n\n    .dataframe thead th {\n        text-align: right;\n    }\n</style>\n<table border=\"1\" class=\"dataframe\">\n  <thead>\n    <tr style=\"text-align: right;\">\n      <th></th>\n      <th>index</th>\n      <th>h_0</th>\n      <th>p_value</th>\n      <th>z_score</th>\n      <th>control_cr</th>\n      <th>test_cr</th>\n      <th>control_total</th>\n      <th>control_successes</th>\n      <th>test_total</th>\n      <th>test_successes</th>\n    </tr>\n  </thead>\n  <tbody>\n    <tr>\n      <th>447</th>\n      <td>447</td>\n      <td>not_reject</td>\n      <td>0.709107</td>\n      <td>-0.373055</td>\n      <td>0.095012</td>\n      <td>0.097211</td>\n      <td>5052</td>\n      <td>480</td>\n      <td>4948</td>\n      <td>481</td>\n    </tr>\n    <tr>\n      <th>3381</th>\n      <td>3381</td>\n      <td>not_reject</td>\n      <td>0.472248</td>\n      <td>-0.718826</td>\n      <td>0.094047</td>\n      <td>0.098286</td>\n      <td>5157</td>\n      <td>485</td>\n      <td>4843</td>\n      <td>476</td>\n    </tr>\n    <tr>\n      <th>1478</th>\n      <td>1478</td>\n      <td>not_reject</td>\n      <td>0.764341</td>\n      <td>-0.299785</td>\n      <td>0.095238</td>\n      <td>0.097006</td>\n      <td>5124</td>\n      <td>488</td>\n      <td>4876</td>\n      <td>473</td>\n    </tr>\n    <tr>\n      <th>2149</th>\n      <td>2149</td>\n      <td>not_reject</td>\n      <td>0.521836</td>\n      <td>-0.640518</td>\n      <td>0.094247</td>\n      <td>0.098023</td>\n      <td>5093</td>\n      <td>480</td>\n      <td>4907</td>\n      <td>481</td>\n    </tr>\n    <tr>\n      <th>4719</th>\n      <td>4719</td>\n      <td>not_reject</td>\n      <td>0.468240</td>\n      <td>-0.725346</td>\n      <td>0.094007</td>\n      <td>0.098284</td>\n      <td>5106</td>\n      <td>480</td>\n      <td>4894</td>\n      <td>481</td>\n    </tr>\n  </tbody>\n</table>\n</div>"
     },
     "execution_count": 11,
     "metadata": {},
     "output_type": "execute_result"
    }
   ],
   "source": [
    "df.sample(5)"
   ],
   "metadata": {
    "collapsed": false,
    "ExecuteTime": {
     "end_time": "2024-06-07T14:15:45.529344Z",
     "start_time": "2024-06-07T14:15:45.524639Z"
    }
   },
   "id": "8f68b6644787c43c",
   "execution_count": 11
  },
  {
   "cell_type": "code",
   "outputs": [
    {
     "data": {
      "text/plain": "h_0\nnot_reject    0.951\nreject        0.049\nName: proportion, dtype: float64"
     },
     "execution_count": 13,
     "metadata": {},
     "output_type": "execute_result"
    }
   ],
   "source": [
    "# Прежде чем переходить к анализу распределения p_value посмотрим на соотношение reject/not_reject H0.\n",
    "# Так как в нашей популяции CR~10%, то кажется, что при семплировании мы всегда должны получать выборки (control/test)\n",
    "# с аналогичной конверсией, а значит H0 всегда должна быть верной (разницы между группами не будет).\n",
    "# Но цифры покажут, что это не так.\n",
    "df['h_0'].value_counts(normalize=True)"
   ],
   "metadata": {
    "collapsed": false,
    "ExecuteTime": {
     "end_time": "2024-06-07T14:16:35.590763Z",
     "start_time": "2024-06-07T14:16:35.585880Z"
    }
   },
   "id": "336c7f6f4602673c",
   "execution_count": 13
  },
  {
   "cell_type": "code",
   "outputs": [
    {
     "data": {
      "text/plain": "<Figure size 1000x500 with 1 Axes>",
      "image/png": "[encoded data removed]"
     },
     "metadata": {},
     "output_type": "display_data"
    }
   ],
   "source": [
    "# Смотрим распределение получившихся p_value. Выглядит как что-то очень похожее на равномерное распределение. \n",
    "df['p_value'].plot(kind='hist', figsize=(10, 5), grid=True);"
   ],
   "metadata": {
    "collapsed": false,
    "ExecuteTime": {
     "end_time": "2024-06-07T14:16:36.599488Z",
     "start_time": "2024-06-07T14:16:36.303816Z"
    }
   },
   "id": "5c4069c0ef9922bc",
   "execution_count": 14
  },
  {
   "cell_type": "code",
   "outputs": [
    {
     "name": "stdout",
     "output_type": "stream",
     "text": [
      "H0 not reject. p_value: 0.16505858146931573\n"
     ]
    }
   ],
   "source": [
    "# Проверим равномерность распределения ч помощью теста Колмогорова-Смирнова.\n",
    "p_value = stats.kstest(df['p_value'], 'uniform')[1]\n",
    "if p_value < 0.05:\n",
    "    print(f'H0 reject, p_value: {p_value}')\n",
    "else:\n",
    "    print(f'H0 not reject. p_value: {p_value}')"
   ],
   "metadata": {
    "collapsed": false,
    "ExecuteTime": {
     "end_time": "2024-06-07T14:16:39.382217Z",
     "start_time": "2024-06-07T14:16:39.376931Z"
    }
   },
   "id": "de6c9301a3c79e75",
   "execution_count": 15
  },
  {
   "cell_type": "code",
   "outputs": [],
   "source": [],
   "metadata": {
    "collapsed": false,
    "ExecuteTime": {
     "end_time": "2024-06-07T14:16:43.608028Z",
     "start_time": "2024-06-07T14:16:43.606606Z"
    }
   },
   "id": "2a635e4e576ffc8a",
   "execution_count": 15
  },
  {
   "cell_type": "markdown",
   "source": [
    "## Выводы\n",
    "\n",
    "1. У нас есть синтетически сгенерированная популяция, в которой конверсия в целевое действие ~10%. Если мы честно и случайно разделяем эту популяцию на группы для АБ, то мы ожидаем, что каждый раз это будут одинаковые выборки (не будет разницы в конверсиях). Но данные говорят обратное, у нас 5% случаев, в которых $H_{0}$ была отвергнута (test и control отличались). И это не очень интуитивно, но показывает как велика доля случайности, когда в реальном мире мы проводим __один__ АБ, а не 10000 вариантов одного АБ.  \n",
    "\n",
    "2. Равномерное распределение p-value может говорить о том, что \n",
    "    - нулевая гипотеза (отсутствие эффекта в АБ) не была отвергнута чаще, чем ожидалось по случайности (alpha). То есть наши синтетические тесты не имеют систематического смещения и работают корректно при отсутствии реальных различий между группами.\n",
    "    - в большинстве итераций не было значимых различий между control и test.\n",
    "\n",
    "3. ???\n"
   ],
   "metadata": {
    "collapsed": false
   },
   "id": "7ccdfd54c53d28b2"
  },
  {
   "cell_type": "code",
   "outputs": [],
   "source": [],
   "metadata": {
    "collapsed": false,
    "ExecuteTime": {
     "end_time": "2024-06-07T13:41:56.544529Z",
     "start_time": "2024-06-07T13:41:56.542622Z"
    }
   },
   "id": "674959d6b6c8b15",
   "execution_count": 57
  }
 ],
 "metadata": {
  "kernelspec": {
   "display_name": "Python 3",
   "language": "python",
   "name": "python3"
  },
  "language_info": {
   "codemirror_mode": {
    "name": "ipython",
    "version": 2
   },
   "file_extension": ".py",
   "mimetype": "text/x-python",
   "name": "python",
   "nbconvert_exporter": "python",
   "pygments_lexer": "ipython2",
   "version": "2.7.6"
  }
 },
 "nbformat": 4,
 "nbformat_minor": 5
}
