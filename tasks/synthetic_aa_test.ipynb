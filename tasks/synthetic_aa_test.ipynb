{
 "cells": [
  {
   "cell_type": "markdown",
   "source": [
    "## Задача\n",
    "- [x] Сгенерировать 10 000 пользователей с помощью UUID4;\n",
    "- [x] С вероятностью в 10% назначить пользователям факт совершения некоторого действия;\n",
    "- [x] Распределить пользователей 10 000 раз по контрольной и тестовой группе. Для каждой итерации новая соль;\n",
    "- [x] Для каждой итерации определить значимость отличия конверсии в исходное действие с p_value = 0.05;\n",
    "- [ ] Построить распределение полученных 10 000 p_value на графике. Какое распределение получилось? \n",
    "- [ ] Проверить соответствие полученного распределения с равномерным с помощью теста Колмогорова-Смирнова;\n",
    "- [ ] Сделать выводы;\n",
    " "
   ],
   "metadata": {
    "collapsed": false
   },
   "id": "98e97dd3031ca914"
  },
  {
   "cell_type": "markdown",
   "source": [
    "## Импорты и функции"
   ],
   "metadata": {
    "collapsed": false
   },
   "id": "6561147ff817c6ef"
  },
  {
   "cell_type": "code",
   "outputs": [],
   "source": [
    "import uuid\n",
    "import hashlib\n",
    "import warnings\n",
    "import sqlite3\n",
    "import numpy as np\n",
    "import pandas as pd\n",
    "from statsmodels.stats.proportion import proportions_ztest\n",
    "from tqdm.auto import tqdm"
   ],
   "metadata": {
    "collapsed": false,
    "ExecuteTime": {
     "end_time": "2024-06-05T11:36:40.380731Z",
     "start_time": "2024-06-05T11:36:39.641405Z"
    }
   },
   "id": "72bfe7111f1f4570",
   "execution_count": 1
  },
  {
   "cell_type": "code",
   "outputs": [],
   "source": [
    "warnings.filterwarnings('ignore')\n",
    "connect = sqlite3.connect('../db.sqlite')"
   ],
   "metadata": {
    "collapsed": false,
    "ExecuteTime": {
     "end_time": "2024-06-05T11:36:40.383965Z",
     "start_time": "2024-06-05T11:36:40.382119Z"
    }
   },
   "id": "5fa7eb73ddb33c8a",
   "execution_count": 2
  },
  {
   "cell_type": "code",
   "outputs": [],
   "source": [
    "# Параметры симуляции \n",
    "NUM_USERS = 10_000\n",
    "NUM_EXPERIMENTS = 10_000\n",
    "ACTION_PROBABILITY = 0.1\n",
    "ALPHA = 0.05\n",
    "CREATE_DATA = 'load' # 'generate"
   ],
   "metadata": {
    "collapsed": false,
    "ExecuteTime": {
     "end_time": "2024-06-05T11:36:40.386213Z",
     "start_time": "2024-06-05T11:36:40.384517Z"
    }
   },
   "id": "b8669ad57a138518",
   "execution_count": 3
  },
  {
   "cell_type": "code",
   "outputs": [],
   "source": [
    "def generate_users_with_actions(num_users: int = None, action_probability: int = None) -> pd.DataFrame:\n",
    "    \"\"\"Генерирует популяцию с заданным количеством пользователей и заданной вероятностью конверсии в целевое действие\"\"\"\n",
    "\n",
    "    np.random.seed(42)\n",
    "\n",
    "    users = [str(uuid.uuid4()) for _ in range(num_users)]\n",
    "    actions = np.random.binomial(1, action_probability, size=num_users)\n",
    "    data = {}\n",
    "    for key, val in zip(users, actions):\n",
    "        data[key] = val\n",
    "\n",
    "    result = pd.DataFrame(data=list(data.items()), columns=['user', 'action'])\n",
    "\n",
    "    return result"
   ],
   "metadata": {
    "collapsed": false,
    "ExecuteTime": {
     "end_time": "2024-06-05T11:36:40.389584Z",
     "start_time": "2024-06-05T11:36:40.387020Z"
    }
   },
   "id": "aeeb934592f3fd92",
   "execution_count": 4
  },
  {
   "cell_type": "code",
   "outputs": [],
   "source": [
    "def split_users(user_id, salt: str) -> int:\n",
    "    \"\"\"Распределяет пользователей по 2м группам АБ-теста\"\"\"\n",
    "\n",
    "    hash_object = hashlib.md5((user_id + salt).encode())\n",
    "    hash_hex = hash_object.hexdigest()\n",
    "    hash_int = int(hash_hex, 16)\n",
    "\n",
    "    group = ''\n",
    "    if hash_int % 100 <= 50:\n",
    "        group = 'control'\n",
    "    else:\n",
    "        group = 'test'\n",
    "\n",
    "    return group"
   ],
   "metadata": {
    "collapsed": false,
    "ExecuteTime": {
     "end_time": "2024-06-05T11:36:40.392815Z",
     "start_time": "2024-06-05T11:36:40.390853Z"
    }
   },
   "id": "e056431af7bf79c4",
   "execution_count": 5
  },
  {
   "cell_type": "code",
   "outputs": [],
   "source": [
    "def create_and_estimate_ab(data: pd.DataFrame, salt: int, alpha: int) -> pd.DataFrame:\n",
    "    \"\"\"Проводит АБ и возвращает результаты\"\"\"\n",
    "\n",
    "    data = data.copy()\n",
    "    data['group'] = data.apply(lambda row: split_users(user_id=row['user'], salt=str(salt)), axis=1)\n",
    "    data = data.pivot_table(index=['group'], columns='action', values='user', aggfunc='count',\n",
    "                            margins=True, margins_name='total')\n",
    "\n",
    "    separation = {\n",
    "        'control_successes': data.loc['control', 1],\n",
    "        'control_total': int(data.loc['control', 'total']),\n",
    "        'control_cr': data.loc['control', 1] / data.loc['control', 'total'],\n",
    "        'test_successes': data.loc['test', 1],\n",
    "        'test_total': data.loc['test', 'total'],\n",
    "        'test_cr': data.loc['test', 1] / data.loc['test', 'total'],\n",
    "    }\n",
    "\n",
    "    z_score, p_value = proportions_ztest(\n",
    "        count=[separation['control_successes'], separation['test_successes']],\n",
    "        nobs=[separation['control_total'], separation['test_total']],\n",
    "        alternative='two-sided')\n",
    "\n",
    "    if p_value < alpha:\n",
    "        h_0 = 'reject'\n",
    "    else:\n",
    "        h_0 = 'not_reject'\n",
    "\n",
    "    results_ab = {\n",
    "        'h_0': h_0,\n",
    "        'p_value': p_value,\n",
    "        'z_score': z_score,\n",
    "        'control_cr': separation['control_cr'],\n",
    "        'test_cr': separation['test_cr'],\n",
    "        'control_total': separation['control_total'],\n",
    "        'control_successes': separation['control_successes'],\n",
    "        'test_total': separation['test_total'],\n",
    "        'test_successes': separation['test_successes']\n",
    "    }\n",
    "\n",
    "    df_row = pd.DataFrame(results_ab, index=[0])\n",
    "\n",
    "    del data\n",
    "\n",
    "    return df_row"
   ],
   "metadata": {
    "collapsed": false,
    "ExecuteTime": {
     "end_time": "2024-06-05T11:36:40.688905Z",
     "start_time": "2024-06-05T11:36:40.685435Z"
    }
   },
   "id": "1eb8b1fa11fea064",
   "execution_count": 6
  },
  {
   "cell_type": "markdown",
   "source": [
    "## Готовим данные "
   ],
   "metadata": {
    "collapsed": false
   },
   "id": "8139254b9fa8204d"
  },
  {
   "cell_type": "code",
   "outputs": [],
   "source": [
    "# Для сбора результатов\n",
    "results = pd.DataFrame(\n",
    "    columns=['h_0', 'p_value', 'z_score', 'control_cr', 'test_cr', 'control_total',\n",
    "             'control_successes', 'test_total', 'test_successes'])\n",
    "\n",
    "# Создаем популяцию \n",
    "population = generate_users_with_actions(num_users=NUM_USERS, action_probability=ACTION_PROBABILITY)\n",
    "\n",
    "if CREATE_DATA == 'generate':\n",
    "    for i in tqdm(range(NUM_EXPERIMENTS)):\n",
    "        exp = create_and_estimate_ab(data=population, salt=i, alpha=ALPHA)\n",
    "        results = pd.concat([results, exp], ignore_index=True)\n",
    "    \n",
    "    # Мини-фикс на тип данных, чтобы в итоговом DF инты были интами :) \n",
    "    results[['control_total', 'control_successes', 'test_total', 'test_successes']] = results[\n",
    "        ['control_total', 'control_successes', 'test_total', 'test_successes']].astype(int)\n",
    "    \n",
    "    # Сохраним в БД, чтобы не гонять тесты каждый раз.\n",
    "    results.to_sql(name='intensive_syntetic_ab_test', con=connect, if_exists='replace')"
   ],
   "metadata": {
    "collapsed": false,
    "ExecuteTime": {
     "end_time": "2024-06-05T11:36:41.477285Z",
     "start_time": "2024-06-05T11:36:41.445883Z"
    }
   },
   "id": "85c3d5be333b3a99",
   "execution_count": 7
  },
  {
   "cell_type": "markdown",
   "source": [
    "## Анализируем данные"
   ],
   "metadata": {
    "collapsed": false
   },
   "id": "30cc3afbb933ecf3"
  },
  {
   "cell_type": "code",
   "outputs": [],
   "source": [
    "if CREATE_DATA == 'load':\n",
    "    df = pd.read_sql('SELECT * FROM intensive_syntetic_ab_test', con=connect)"
   ],
   "metadata": {
    "collapsed": false,
    "ExecuteTime": {
     "end_time": "2024-06-05T11:36:42.424202Z",
     "start_time": "2024-06-05T11:36:42.395852Z"
    }
   },
   "id": "59065cce32a3813a",
   "execution_count": 8
  },
  {
   "cell_type": "code",
   "outputs": [
    {
     "data": {
      "text/plain": "      index         h_0   p_value   z_score  control_cr   test_cr  \\\n0         0  not_reject  0.311921 -1.011200    0.093165  0.099127   \n1         1      reject  0.000448  3.510022    0.106131  0.085431   \n2         2  not_reject  0.081646 -1.741216    0.091138  0.101407   \n3         3  not_reject  0.213864  1.243010    0.099687  0.092358   \n4         4  not_reject  0.963812 -0.045370    0.095969  0.096236   \n...     ...         ...       ...       ...         ...       ...   \n9995   9995  not_reject  0.855663  0.181897    0.096623  0.095551   \n9996   9996  not_reject  0.113019  1.584767    0.100597  0.091249   \n9997   9997  not_reject  0.686664  0.403386    0.097280  0.094902   \n9998   9998      reject  0.007764 -2.662170    0.088363  0.104057   \n9999   9999  not_reject  0.350191 -0.934219    0.093422  0.098930   \n\n      control_total  control_successes  test_total  test_successes  \n0              5077                473        4923             488  \n1              5154                547        4846             414  \n2              5168                471        4832             490  \n3              5106                509        4894             452  \n4              5085                488        4915             473  \n...             ...                ...         ...             ...  \n9995           5123                495        4877             466  \n9996           5189                522        4811             439  \n9997           5037                490        4963             471  \n9998           5070                448        4930             513  \n9999           5138                480        4862             481  \n\n[10000 rows x 10 columns]",
      "text/html": "<div>\n<style scoped>\n    .dataframe tbody tr th:only-of-type {\n        vertical-align: middle;\n    }\n\n    .dataframe tbody tr th {\n        vertical-align: top;\n    }\n\n    .dataframe thead th {\n        text-align: right;\n    }\n</style>\n<table border=\"1\" class=\"dataframe\">\n  <thead>\n    <tr style=\"text-align: right;\">\n      <th></th>\n      <th>index</th>\n      <th>h_0</th>\n      <th>p_value</th>\n      <th>z_score</th>\n      <th>control_cr</th>\n      <th>test_cr</th>\n      <th>control_total</th>\n      <th>control_successes</th>\n      <th>test_total</th>\n      <th>test_successes</th>\n    </tr>\n  </thead>\n  <tbody>\n    <tr>\n      <th>0</th>\n      <td>0</td>\n      <td>not_reject</td>\n      <td>0.311921</td>\n      <td>-1.011200</td>\n      <td>0.093165</td>\n      <td>0.099127</td>\n      <td>5077</td>\n      <td>473</td>\n      <td>4923</td>\n      <td>488</td>\n    </tr>\n    <tr>\n      <th>1</th>\n      <td>1</td>\n      <td>reject</td>\n      <td>0.000448</td>\n      <td>3.510022</td>\n      <td>0.106131</td>\n      <td>0.085431</td>\n      <td>5154</td>\n      <td>547</td>\n      <td>4846</td>\n      <td>414</td>\n    </tr>\n    <tr>\n      <th>2</th>\n      <td>2</td>\n      <td>not_reject</td>\n      <td>0.081646</td>\n      <td>-1.741216</td>\n      <td>0.091138</td>\n      <td>0.101407</td>\n      <td>5168</td>\n      <td>471</td>\n      <td>4832</td>\n      <td>490</td>\n    </tr>\n    <tr>\n      <th>3</th>\n      <td>3</td>\n      <td>not_reject</td>\n      <td>0.213864</td>\n      <td>1.243010</td>\n      <td>0.099687</td>\n      <td>0.092358</td>\n      <td>5106</td>\n      <td>509</td>\n      <td>4894</td>\n      <td>452</td>\n    </tr>\n    <tr>\n      <th>4</th>\n      <td>4</td>\n      <td>not_reject</td>\n      <td>0.963812</td>\n      <td>-0.045370</td>\n      <td>0.095969</td>\n      <td>0.096236</td>\n      <td>5085</td>\n      <td>488</td>\n      <td>4915</td>\n      <td>473</td>\n    </tr>\n    <tr>\n      <th>...</th>\n      <td>...</td>\n      <td>...</td>\n      <td>...</td>\n      <td>...</td>\n      <td>...</td>\n      <td>...</td>\n      <td>...</td>\n      <td>...</td>\n      <td>...</td>\n      <td>...</td>\n    </tr>\n    <tr>\n      <th>9995</th>\n      <td>9995</td>\n      <td>not_reject</td>\n      <td>0.855663</td>\n      <td>0.181897</td>\n      <td>0.096623</td>\n      <td>0.095551</td>\n      <td>5123</td>\n      <td>495</td>\n      <td>4877</td>\n      <td>466</td>\n    </tr>\n    <tr>\n      <th>9996</th>\n      <td>9996</td>\n      <td>not_reject</td>\n      <td>0.113019</td>\n      <td>1.584767</td>\n      <td>0.100597</td>\n      <td>0.091249</td>\n      <td>5189</td>\n      <td>522</td>\n      <td>4811</td>\n      <td>439</td>\n    </tr>\n    <tr>\n      <th>9997</th>\n      <td>9997</td>\n      <td>not_reject</td>\n      <td>0.686664</td>\n      <td>0.403386</td>\n      <td>0.097280</td>\n      <td>0.094902</td>\n      <td>5037</td>\n      <td>490</td>\n      <td>4963</td>\n      <td>471</td>\n    </tr>\n    <tr>\n      <th>9998</th>\n      <td>9998</td>\n      <td>reject</td>\n      <td>0.007764</td>\n      <td>-2.662170</td>\n      <td>0.088363</td>\n      <td>0.104057</td>\n      <td>5070</td>\n      <td>448</td>\n      <td>4930</td>\n      <td>513</td>\n    </tr>\n    <tr>\n      <th>9999</th>\n      <td>9999</td>\n      <td>not_reject</td>\n      <td>0.350191</td>\n      <td>-0.934219</td>\n      <td>0.093422</td>\n      <td>0.098930</td>\n      <td>5138</td>\n      <td>480</td>\n      <td>4862</td>\n      <td>481</td>\n    </tr>\n  </tbody>\n</table>\n<p>10000 rows × 10 columns</p>\n</div>"
     },
     "execution_count": 9,
     "metadata": {},
     "output_type": "execute_result"
    }
   ],
   "source": [
    "df"
   ],
   "metadata": {
    "collapsed": false,
    "ExecuteTime": {
     "end_time": "2024-06-05T11:36:42.783802Z",
     "start_time": "2024-06-05T11:36:42.777477Z"
    }
   },
   "id": "89f84d1b2499d8fe",
   "execution_count": 9
  },
  {
   "cell_type": "code",
   "outputs": [],
   "source": [],
   "metadata": {
    "collapsed": false,
    "ExecuteTime": {
     "end_time": "2024-06-05T11:36:58.189318Z",
     "start_time": "2024-06-05T11:36:58.187023Z"
    }
   },
   "id": "5c4069c0ef9922bc",
   "execution_count": 10
  },
  {
   "cell_type": "code",
   "outputs": [],
   "source": [],
   "metadata": {
    "collapsed": false,
    "ExecuteTime": {
     "end_time": "2024-06-05T09:34:12.043634Z",
     "start_time": "2024-06-05T09:34:12.041965Z"
    }
   },
   "id": "de6c9301a3c79e75",
   "execution_count": 179
  },
  {
   "cell_type": "code",
   "outputs": [],
   "source": [],
   "metadata": {
    "collapsed": false,
    "ExecuteTime": {
     "end_time": "2024-06-05T09:21:58.187172Z",
     "start_time": "2024-06-05T09:21:58.185863Z"
    }
   },
   "id": "c91b63c02556c72c",
   "execution_count": 139
  },
  {
   "cell_type": "code",
   "outputs": [],
   "source": [],
   "metadata": {
    "collapsed": false,
    "ExecuteTime": {
     "end_time": "2024-06-05T11:18:42.580297Z",
     "start_time": "2024-06-05T11:18:42.578181Z"
    }
   },
   "id": "674959d6b6c8b15",
   "execution_count": 24
  },
  {
   "cell_type": "code",
   "outputs": [],
   "source": [],
   "metadata": {
    "collapsed": false,
    "ExecuteTime": {
     "end_time": "2024-06-05T11:18:43.648676Z",
     "start_time": "2024-06-05T11:18:43.647111Z"
    }
   },
   "id": "fa00e6a7b11cad1c",
   "execution_count": 24
  },
  {
   "cell_type": "code",
   "outputs": [],
   "source": [],
   "metadata": {
    "collapsed": false,
    "ExecuteTime": {
     "end_time": "2024-06-05T09:46:17.560361Z",
     "start_time": "2024-06-05T09:46:17.558793Z"
    }
   },
   "id": "8246162591d1697d",
   "execution_count": 230
  },
  {
   "cell_type": "code",
   "outputs": [],
   "source": [],
   "metadata": {
    "collapsed": false,
    "ExecuteTime": {
     "end_time": "2024-06-05T11:18:48.259611Z",
     "start_time": "2024-06-05T11:18:48.257390Z"
    }
   },
   "id": "3b3731daaf68d024",
   "execution_count": 24
  },
  {
   "cell_type": "code",
   "outputs": [],
   "source": [],
   "metadata": {
    "collapsed": false
   },
   "id": "909cd0f7954736e6"
  }
 ],
 "metadata": {
  "kernelspec": {
   "display_name": "Python 3",
   "language": "python",
   "name": "python3"
  },
  "language_info": {
   "codemirror_mode": {
    "name": "ipython",
    "version": 2
   },
   "file_extension": ".py",
   "mimetype": "text/x-python",
   "name": "python",
   "nbconvert_exporter": "python",
   "pygments_lexer": "ipython2",
   "version": "2.7.6"
  }
 },
 "nbformat": 4,
 "nbformat_minor": 5
}
